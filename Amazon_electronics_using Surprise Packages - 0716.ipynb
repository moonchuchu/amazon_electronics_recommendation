{
 "cells": [
  {
   "cell_type": "markdown",
   "metadata": {},
   "source": [
    "<span style='background:yellow'> <span style='font-family:Georgia'>  ## Load necessary packages  </span>"
   ]
  },
  {
   "cell_type": "code",
   "execution_count": 1,
   "metadata": {},
   "outputs": [],
   "source": [
    "import numpy as np\n",
    "import pandas as pd\n",
    "import seaborn as sns\n",
    "import matplotlib.pyplot as plt\n",
    "%matplotlib inline\n",
    "\n",
    "from sklearn.model_selection import train_test_split\n"
   ]
  },
  {
   "cell_type": "markdown",
   "metadata": {},
   "source": [
    "<span style='background:yellow'> <span style='font-family:Georgia'>  ## Read the data  </span>"
   ]
  },
  {
   "cell_type": "code",
   "execution_count": 2,
   "metadata": {},
   "outputs": [
    {
     "data": {
      "text/html": [
       "<div>\n",
       "<style scoped>\n",
       "    .dataframe tbody tr th:only-of-type {\n",
       "        vertical-align: middle;\n",
       "    }\n",
       "\n",
       "    .dataframe tbody tr th {\n",
       "        vertical-align: top;\n",
       "    }\n",
       "\n",
       "    .dataframe thead th {\n",
       "        text-align: right;\n",
       "    }\n",
       "</style>\n",
       "<table border=\"1\" class=\"dataframe\">\n",
       "  <thead>\n",
       "    <tr style=\"text-align: right;\">\n",
       "      <th></th>\n",
       "      <th>userId</th>\n",
       "      <th>productId</th>\n",
       "      <th>rating</th>\n",
       "      <th>timestamp</th>\n",
       "    </tr>\n",
       "  </thead>\n",
       "  <tbody>\n",
       "    <tr>\n",
       "      <th>0</th>\n",
       "      <td>AKM1MP6P0OYPR</td>\n",
       "      <td>0132793040</td>\n",
       "      <td>5.0</td>\n",
       "      <td>1365811200</td>\n",
       "    </tr>\n",
       "    <tr>\n",
       "      <th>1</th>\n",
       "      <td>A2CX7LUOHB2NDG</td>\n",
       "      <td>0321732944</td>\n",
       "      <td>5.0</td>\n",
       "      <td>1341100800</td>\n",
       "    </tr>\n",
       "    <tr>\n",
       "      <th>2</th>\n",
       "      <td>A2NWSAGRHCP8N5</td>\n",
       "      <td>0439886341</td>\n",
       "      <td>1.0</td>\n",
       "      <td>1367193600</td>\n",
       "    </tr>\n",
       "    <tr>\n",
       "      <th>3</th>\n",
       "      <td>A2WNBOD3WNDNKT</td>\n",
       "      <td>0439886341</td>\n",
       "      <td>3.0</td>\n",
       "      <td>1374451200</td>\n",
       "    </tr>\n",
       "    <tr>\n",
       "      <th>4</th>\n",
       "      <td>A1GI0U4ZRJA8WN</td>\n",
       "      <td>0439886341</td>\n",
       "      <td>1.0</td>\n",
       "      <td>1334707200</td>\n",
       "    </tr>\n",
       "  </tbody>\n",
       "</table>\n",
       "</div>"
      ],
      "text/plain": [
       "           userId   productId  rating   timestamp\n",
       "0   AKM1MP6P0OYPR  0132793040     5.0  1365811200\n",
       "1  A2CX7LUOHB2NDG  0321732944     5.0  1341100800\n",
       "2  A2NWSAGRHCP8N5  0439886341     1.0  1367193600\n",
       "3  A2WNBOD3WNDNKT  0439886341     3.0  1374451200\n",
       "4  A1GI0U4ZRJA8WN  0439886341     1.0  1334707200"
      ]
     },
     "execution_count": 2,
     "metadata": {},
     "output_type": "execute_result"
    }
   ],
   "source": [
    "df = pd.read_csv('C:/Users/eymoo/Documents/Recommendation/ratings_Electronics (1).csv', names=['userId', 'productId','rating','timestamp'])\n",
    "df.head()"
   ]
  },
  {
   "cell_type": "code",
   "execution_count": 3,
   "metadata": {},
   "outputs": [
    {
     "data": {
      "text/plain": [
       "7824482"
      ]
     },
     "execution_count": 3,
     "metadata": {},
     "output_type": "execute_result"
    }
   ],
   "source": [
    "len(df)"
   ]
  },
  {
   "cell_type": "markdown",
   "metadata": {},
   "source": [
    "<span style='background:yellow'> <span style='font-family:Georgia'>  ## Data is too big (7.8MM).. we will use 2% due to memory issue  </span> "
   ]
  },
  {
   "cell_type": "code",
   "execution_count": 4,
   "metadata": {},
   "outputs": [
    {
     "data": {
      "text/html": [
       "<div>\n",
       "<style scoped>\n",
       "    .dataframe tbody tr th:only-of-type {\n",
       "        vertical-align: middle;\n",
       "    }\n",
       "\n",
       "    .dataframe tbody tr th {\n",
       "        vertical-align: top;\n",
       "    }\n",
       "\n",
       "    .dataframe thead th {\n",
       "        text-align: right;\n",
       "    }\n",
       "</style>\n",
       "<table border=\"1\" class=\"dataframe\">\n",
       "  <thead>\n",
       "    <tr style=\"text-align: right;\">\n",
       "      <th></th>\n",
       "      <th>userId</th>\n",
       "      <th>productId</th>\n",
       "      <th>rating</th>\n",
       "      <th>timestamp</th>\n",
       "    </tr>\n",
       "  </thead>\n",
       "  <tbody>\n",
       "    <tr>\n",
       "      <th>4322341</th>\n",
       "      <td>A2NAUP5YWC456C</td>\n",
       "      <td>B004OFPFVQ</td>\n",
       "      <td>5.0</td>\n",
       "      <td>1325289600</td>\n",
       "    </tr>\n",
       "    <tr>\n",
       "      <th>4686059</th>\n",
       "      <td>A105S56ODHGJEK</td>\n",
       "      <td>B0054CFKQI</td>\n",
       "      <td>5.0</td>\n",
       "      <td>1316476800</td>\n",
       "    </tr>\n",
       "    <tr>\n",
       "      <th>6762380</th>\n",
       "      <td>A3FU5IXOUUW0GR</td>\n",
       "      <td>B009WU5XUG</td>\n",
       "      <td>4.0</td>\n",
       "      <td>1376006400</td>\n",
       "    </tr>\n",
       "    <tr>\n",
       "      <th>3937352</th>\n",
       "      <td>AP5MLYKGVKA5M</td>\n",
       "      <td>B0047XRVWQ</td>\n",
       "      <td>5.0</td>\n",
       "      <td>1398556800</td>\n",
       "    </tr>\n",
       "    <tr>\n",
       "      <th>491263</th>\n",
       "      <td>A187PVL5FKH48Z</td>\n",
       "      <td>B0002L5R78</td>\n",
       "      <td>5.0</td>\n",
       "      <td>1327708800</td>\n",
       "    </tr>\n",
       "    <tr>\n",
       "      <th>5030793</th>\n",
       "      <td>A265IEMG2K5R4W</td>\n",
       "      <td>B005JXAEGS</td>\n",
       "      <td>4.0</td>\n",
       "      <td>1320710400</td>\n",
       "    </tr>\n",
       "  </tbody>\n",
       "</table>\n",
       "</div>"
      ],
      "text/plain": [
       "                 userId   productId  rating   timestamp\n",
       "4322341  A2NAUP5YWC456C  B004OFPFVQ     5.0  1325289600\n",
       "4686059  A105S56ODHGJEK  B0054CFKQI     5.0  1316476800\n",
       "6762380  A3FU5IXOUUW0GR  B009WU5XUG     4.0  1376006400\n",
       "3937352   AP5MLYKGVKA5M  B0047XRVWQ     5.0  1398556800\n",
       "491263   A187PVL5FKH48Z  B0002L5R78     5.0  1327708800\n",
       "5030793  A265IEMG2K5R4W  B005JXAEGS     4.0  1320710400"
      ]
     },
     "execution_count": 4,
     "metadata": {},
     "output_type": "execute_result"
    }
   ],
   "source": [
    "sampled = df.sample(frac=0.002, replace=True, random_state=1)\n",
    "sampled.columns = ['userId', 'productId','rating','timestamp']\n",
    "sampled.head(6)"
   ]
  },
  {
   "cell_type": "markdown",
   "metadata": {},
   "source": [
    "<span style='background:yellow'> <span style='font-family:Georgia'>  ## Let's take a look at the distribution  </span> "
   ]
  },
  {
   "cell_type": "code",
   "execution_count": 5,
   "metadata": {},
   "outputs": [
    {
     "data": {
      "text/plain": [
       "userId       4201696\n",
       "productId     476002\n",
       "rating             5\n",
       "timestamp       5489\n",
       "dtype: int64"
      ]
     },
     "execution_count": 5,
     "metadata": {},
     "output_type": "execute_result"
    }
   ],
   "source": [
    "#original one\n",
    "df.nunique()"
   ]
  },
  {
   "cell_type": "code",
   "execution_count": 6,
   "metadata": {},
   "outputs": [
    {
     "data": {
      "text/plain": [
       "userId       15570\n",
       "productId    11721\n",
       "rating           5\n",
       "timestamp     2793\n",
       "dtype: int64"
      ]
     },
     "execution_count": 6,
     "metadata": {},
     "output_type": "execute_result"
    }
   ],
   "source": [
    "#sampled one\n",
    "sampled.nunique()"
   ]
  },
  {
   "cell_type": "markdown",
   "metadata": {},
   "source": [
    "<span style='background:yellow'> <span style='font-family:Georgia'>  ## Quick Visualization of sampled distribution and total distribution </span> "
   ]
  },
  {
   "cell_type": "code",
   "execution_count": 60,
   "metadata": {},
   "outputs": [
    {
     "data": {
      "image/png": "[encoded data removed]",
      "text/plain": [
       "<Figure size 432x288 with 1 Axes>"
      ]
     },
     "metadata": {
      "needs_background": "light"
     },
     "output_type": "display_data"
    }
   ],
   "source": [
    "from pylab import hist, show,xticks\n",
    "\n",
    "hist(sampled['rating'])\n",
    "xticks(range(1, 6))\n",
    "show()"
   ]
  },
  {
   "cell_type": "code",
   "execution_count": 61,
   "metadata": {},
   "outputs": [
    {
     "data": {
      "image/png": "[encoded data removed]",
      "text/plain": [
       "<Figure size 432x288 with 1 Axes>"
      ]
     },
     "metadata": {
      "needs_background": "light"
     },
     "output_type": "display_data"
    }
   ],
   "source": [
    "hist(df['rating'])\n",
    "xticks(range(1, 6))\n",
    "show()"
   ]
  },
  {
   "cell_type": "markdown",
   "metadata": {},
   "source": [
    "<span style='background:yellow'> <span style='font-family:Georgia'>  ## Distribution in terms of rating per user  </span> "
   ]
  },
  {
   "cell_type": "code",
   "execution_count": 62,
   "metadata": {},
   "outputs": [],
   "source": [
    "countd_sampled=sampled['userId'].value_counts()\n",
    "countd=df['userId'].value_counts()"
   ]
  },
  {
   "cell_type": "code",
   "execution_count": 66,
   "metadata": {},
   "outputs": [
    {
     "data": {
      "text/plain": [
       "A5JLAU2ARJ0BO     520\n",
       "ADLVFFE4VBT8      501\n",
       "A3OXHLG6DIBRW8    498\n",
       "A6FIAB28IS79      431\n",
       "A680RUE1FDO8B     406\n",
       "                 ... \n",
       "A3JWPJ74H0WMKA      1\n",
       "A3UU5MOVL9VGF4      1\n",
       "A39EPJTOJ0UJGD      1\n",
       "AH24KLO6GQ1FY       1\n",
       "ATDLRDVBTWXSN       1\n",
       "Name: userId, Length: 4201696, dtype: int64"
      ]
     },
     "execution_count": 66,
     "metadata": {},
     "output_type": "execute_result"
    }
   ],
   "source": [
    "countd"
   ]
  },
  {
   "cell_type": "code",
   "execution_count": 67,
   "metadata": {},
   "outputs": [
    {
     "data": {
      "text/plain": [
       "AYB4ELCS5AM8P     3\n",
       "A1AVTWQT4YOGH0    2\n",
       "AV1BBZDIDG5BV     2\n",
       "A1M66K0VT4JDS0    2\n",
       "AEDKYXS0NYSY5     2\n",
       "                 ..\n",
       "APD8NE5TAHDD6     1\n",
       "A2ZDVTGD1GP16C    1\n",
       "A3G11WF34W2IN2    1\n",
       "A22YPCVOTIBD4T    1\n",
       "AVF6LZSV1HR9H     1\n",
       "Name: userId, Length: 15570, dtype: int64"
      ]
     },
     "execution_count": 67,
     "metadata": {},
     "output_type": "execute_result"
    }
   ],
   "source": [
    "countd_sampled"
   ]
  },
  {
   "cell_type": "code",
   "execution_count": 63,
   "metadata": {},
   "outputs": [
    {
     "data": {
      "image/png": "[encoded data removed]",
      "text/plain": [
       "<Figure size 432x288 with 1 Axes>"
      ]
     },
     "metadata": {
      "needs_background": "light"
     },
     "output_type": "display_data"
    }
   ],
   "source": [
    "import numpy as np\n",
    "import matplotlib.pyplot as plt\n",
    "from matplotlib.ticker import PercentFormatter\n",
    "\n",
    "plt.hist(countd, weights=np.ones(len(countd)) / len(countd), bins=50)\n",
    "plt.gca().yaxis.set_major_formatter(PercentFormatter(1))\n",
    "plt.show()"
   ]
  },
  {
   "cell_type": "code",
   "execution_count": 65,
   "metadata": {},
   "outputs": [
    {
     "data": {
      "image/png": "[encoded data removed]",
      "text/plain": [
       "<Figure size 432x288 with 1 Axes>"
      ]
     },
     "metadata": {
      "needs_background": "light"
     },
     "output_type": "display_data"
    }
   ],
   "source": [
    "import numpy as np\n",
    "import matplotlib.pyplot as plt\n",
    "from matplotlib.ticker import PercentFormatter\n",
    "\n",
    "plt.hist(countd_sampled, weights=np.ones(len(countd_sampled)) / len(countd_sampled), bins=50)\n",
    "plt.gca().yaxis.set_major_formatter(PercentFormatter(1))\n",
    "plt.show()"
   ]
  },
  {
   "cell_type": "markdown",
   "metadata": {},
   "source": [
    "<span style='background:yellow'> <span style='font-family:Georgia'>  ## 90% of users in sample data gave 1 rating only, which makes the data too sparse. But we will go ahead and use it\n",
    "<br> Using Simple SVD model \n",
    "</span> "
   ]
  },
  {
   "cell_type": "code",
   "execution_count": 14,
   "metadata": {},
   "outputs": [],
   "source": [
    "#Load the packages\n",
    "\n",
    "from surprise import KNNWithMeans\n",
    "from surprise import Dataset\n",
    "from surprise import accuracy\n",
    "from surprise import Reader\n",
    "import os\n",
    "from surprise.model_selection import train_test_split\n",
    "from collections import defaultdict\n",
    "import pandas as pd\n",
    "import matplotlib.pyplot as plt\n",
    "%matplotlib inline\n",
    "from surprise.model_selection import cross_validate\n",
    "from surprise.model_selection import GridSearchCV\n",
    "from surprise import KNNBasic, KNNWithMeans, KNNWithZScore\n",
    "from surprise import SVD, SVDpp, NMF\n",
    "from surprise import SlopeOne, CoClustering, NormalPredictor, KNNBaseline, BaselineOnly, CoClustering"
   ]
  },
  {
   "cell_type": "markdown",
   "metadata": {},
   "source": [
    "<span style='background:yellow'> <span style='font-family:Georgia'>  \n",
    "Surprise package needs to be fed with 3 inputs. 1) User 2) Product 3) Review. \n",
    "<br>\n",
    "For the review we have to specify the min and max value of the raw data in the reader class.  </span> "
   ]
  },
  {
   "cell_type": "code",
   "execution_count": 15,
   "metadata": {},
   "outputs": [
    {
     "data": {
      "text/plain": [
       "(1.0, 5.0)"
      ]
     },
     "execution_count": 15,
     "metadata": {},
     "output_type": "execute_result"
    }
   ],
   "source": [
    "sampled['rating'].min(), sampled['rating'].max()"
   ]
  },
  {
   "cell_type": "code",
   "execution_count": 16,
   "metadata": {},
   "outputs": [],
   "source": [
    "# our rating scale start from 1 and end at 5. so rating_scale = (1,5)\n",
    "reader = Reader(rating_scale=(1, 5))\n",
    "\n",
    "# Load the data\n",
    "data = Dataset.load_from_df(sampled[['userId','productId','rating']], reader)"
   ]
  },
  {
   "cell_type": "code",
   "execution_count": 17,
   "metadata": {},
   "outputs": [
    {
     "name": "stdout",
     "output_type": "stream",
     "text": [
      "Processing epoch 0\n",
      "Processing epoch 1\n",
      "Processing epoch 2\n",
      "Processing epoch 3\n",
      "Processing epoch 4\n",
      "Processing epoch 5\n",
      "Processing epoch 6\n",
      "Processing epoch 7\n",
      "Processing epoch 8\n",
      "Processing epoch 9\n",
      "Processing epoch 0\n",
      "Processing epoch 1\n",
      "Processing epoch 2\n",
      "Processing epoch 3\n",
      "Processing epoch 4\n",
      "Processing epoch 5\n",
      "Processing epoch 6\n",
      "Processing epoch 7\n",
      "Processing epoch 8\n",
      "Processing epoch 9\n",
      "Processing epoch 0\n",
      "Processing epoch 1\n",
      "Processing epoch 2\n",
      "Processing epoch 3\n",
      "Processing epoch 4\n",
      "Processing epoch 5\n",
      "Processing epoch 6\n",
      "Processing epoch 7\n",
      "Processing epoch 8\n",
      "Processing epoch 9\n"
     ]
    },
    {
     "data": {
      "text/plain": [
       "{'test_rmse': array([1.36666238, 1.38493834, 1.39337771]),\n",
       " 'test_mae': array([1.08618673, 1.10510914, 1.10665773]),\n",
       " 'fit_time': (0.42308712005615234, 0.3851175308227539, 0.40805912017822266),\n",
       " 'test_time': (0.03126835823059082, 0.09376692771911621, 0.03400063514709473)}"
      ]
     },
     "execution_count": 17,
     "metadata": {},
     "output_type": "execute_result"
    }
   ],
   "source": [
    "# Let's Run SVD \n",
    "svd = SVD(verbose=True, n_epochs=10)\n",
    "cross_validate(svd, data, measures=['RMSE', 'MAE'], cv=3, verbose=False)"
   ]
  },
  {
   "cell_type": "code",
   "execution_count": 50,
   "metadata": {},
   "outputs": [
    {
     "name": "stdout",
     "output_type": "stream",
     "text": [
      "RMSE: 1.3825\n"
     ]
    },
    {
     "data": {
      "text/plain": [
       "1.382525660166439"
      ]
     },
     "execution_count": 50,
     "metadata": {},
     "output_type": "execute_result"
    }
   ],
   "source": [
    "#If a full cross-validation procedure is not needed, we can use the train_test_split() to sample a trainset and a testset \n",
    "# with given sizes, and use the accuracy metric of our choice.\n",
    "#fit() : train the algorithm on the trainset, \n",
    "#test() : return the predictions made from the testset:\n",
    "\n",
    "from surprise import SVD\n",
    "from surprise import Dataset\n",
    "from surprise import accuracy\n",
    "from surprise.model_selection import train_test_split\n",
    "\n",
    "# sample random trainset and testset\n",
    "# test set is made of 25% of the ratings.\n",
    "trainset, testset = train_test_split(data, test_size=.25)\n",
    "\n",
    "# We'll use the famous SVD algorithm.\n",
    "algo = SVD()\n",
    "\n",
    "# Train the algorithm on the trainset, and predict ratings for the testset\n",
    "algo.fit(trainset)\n",
    "predictions = algo.test(testset)\n",
    "\n",
    "# Then compute RMSE\n",
    "accuracy.rmse(predictions)"
   ]
  },
  {
   "cell_type": "code",
   "execution_count": 19,
   "metadata": {},
   "outputs": [],
   "source": [
    "# Let's try to feed all the algorithms available and see which one performs well"
   ]
  },
  {
   "cell_type": "code",
   "execution_count": 20,
   "metadata": {},
   "outputs": [
    {
     "name": "stdout",
     "output_type": "stream",
     "text": [
      "Estimating biases using als...\n",
      "Computing the msd similarity matrix...\n",
      "Done computing similarity matrix.\n",
      "Estimating biases using als...\n",
      "Computing the msd similarity matrix...\n",
      "Done computing similarity matrix.\n",
      "Estimating biases using als...\n",
      "Computing the msd similarity matrix...\n",
      "Done computing similarity matrix.\n",
      "Computing the msd similarity matrix...\n",
      "Done computing similarity matrix.\n",
      "Computing the msd similarity matrix...\n",
      "Done computing similarity matrix.\n",
      "Computing the msd similarity matrix...\n",
      "Done computing similarity matrix.\n",
      "Computing the msd similarity matrix...\n",
      "Done computing similarity matrix.\n",
      "Computing the msd similarity matrix...\n",
      "Done computing similarity matrix.\n",
      "Computing the msd similarity matrix...\n",
      "Done computing similarity matrix.\n",
      "Computing the msd similarity matrix...\n",
      "Done computing similarity matrix.\n",
      "Computing the msd similarity matrix...\n",
      "Done computing similarity matrix.\n",
      "Computing the msd similarity matrix...\n",
      "Done computing similarity matrix.\n",
      "Estimating biases using als...\n",
      "Estimating biases using als...\n",
      "Estimating biases using als...\n"
     ]
    }
   ],
   "source": [
    "benchmark = []\n",
    "# Iterate over all algorithms\n",
    "for algorithm in [SVD(), SVDpp(), SlopeOne(), NMF(), NormalPredictor(), KNNBaseline(), KNNBasic(), KNNWithMeans(), KNNWithZScore(), BaselineOnly(), CoClustering()]:\n",
    "    # Perform cross validation (Feed algorithm above, data above. We will use RMSE for measurement)\n",
    "    results = cross_validate(algorithm, data, measures=['RMSE', 'MAE'], cv=3, verbose=False)\n",
    "    \n",
    "    # Get results & append algorithm name\n",
    "    tmp = pd.DataFrame.from_dict(results).mean(axis=0)\n",
    "    tmp = tmp.append(pd.Series([str(algorithm).split(' ')[0].split('.')[-1]], index=['Algorithm']))\n",
    "    benchmark.append(tmp)\n",
    "    \n",
    "t=pd.DataFrame(benchmark).set_index('Algorithm').sort_values('test_rmse')    "
   ]
  },
  {
   "cell_type": "code",
   "execution_count": 21,
   "metadata": {},
   "outputs": [
    {
     "data": {
      "text/html": [
       "<div>\n",
       "<style scoped>\n",
       "    .dataframe tbody tr th:only-of-type {\n",
       "        vertical-align: middle;\n",
       "    }\n",
       "\n",
       "    .dataframe tbody tr th {\n",
       "        vertical-align: top;\n",
       "    }\n",
       "\n",
       "    .dataframe thead th {\n",
       "        text-align: right;\n",
       "    }\n",
       "</style>\n",
       "<table border=\"1\" class=\"dataframe\">\n",
       "  <thead>\n",
       "    <tr style=\"text-align: right;\">\n",
       "      <th></th>\n",
       "      <th>test_rmse</th>\n",
       "      <th>test_mae</th>\n",
       "      <th>fit_time</th>\n",
       "      <th>test_time</th>\n",
       "    </tr>\n",
       "    <tr>\n",
       "      <th>Algorithm</th>\n",
       "      <th></th>\n",
       "      <th></th>\n",
       "      <th></th>\n",
       "      <th></th>\n",
       "    </tr>\n",
       "  </thead>\n",
       "  <tbody>\n",
       "    <tr>\n",
       "      <th>SVDpp</th>\n",
       "      <td>1.377803</td>\n",
       "      <td>1.095880</td>\n",
       "      <td>1.059564</td>\n",
       "      <td>0.034984</td>\n",
       "    </tr>\n",
       "    <tr>\n",
       "      <th>KNNBaseline</th>\n",
       "      <td>1.378202</td>\n",
       "      <td>1.095874</td>\n",
       "      <td>2.432896</td>\n",
       "      <td>0.031995</td>\n",
       "    </tr>\n",
       "    <tr>\n",
       "      <th>BaselineOnly</th>\n",
       "      <td>1.378851</td>\n",
       "      <td>1.097196</td>\n",
       "      <td>0.050977</td>\n",
       "      <td>0.030989</td>\n",
       "    </tr>\n",
       "    <tr>\n",
       "      <th>SVD</th>\n",
       "      <td>1.379675</td>\n",
       "      <td>1.097729</td>\n",
       "      <td>0.734374</td>\n",
       "      <td>0.034712</td>\n",
       "    </tr>\n",
       "    <tr>\n",
       "      <th>CoClustering</th>\n",
       "      <td>1.387084</td>\n",
       "      <td>1.102525</td>\n",
       "      <td>1.994677</td>\n",
       "      <td>0.066081</td>\n",
       "    </tr>\n",
       "    <tr>\n",
       "      <th>KNNWithMeans</th>\n",
       "      <td>1.387436</td>\n",
       "      <td>1.103432</td>\n",
       "      <td>2.505972</td>\n",
       "      <td>0.041654</td>\n",
       "    </tr>\n",
       "    <tr>\n",
       "      <th>KNNBasic</th>\n",
       "      <td>1.387747</td>\n",
       "      <td>1.103736</td>\n",
       "      <td>2.336442</td>\n",
       "      <td>0.095003</td>\n",
       "    </tr>\n",
       "    <tr>\n",
       "      <th>SlopeOne</th>\n",
       "      <td>1.387864</td>\n",
       "      <td>1.103250</td>\n",
       "      <td>1.541768</td>\n",
       "      <td>0.040649</td>\n",
       "    </tr>\n",
       "    <tr>\n",
       "      <th>KNNWithZScore</th>\n",
       "      <td>1.387890</td>\n",
       "      <td>1.103885</td>\n",
       "      <td>2.965362</td>\n",
       "      <td>0.051003</td>\n",
       "    </tr>\n",
       "    <tr>\n",
       "      <th>NMF</th>\n",
       "      <td>1.388518</td>\n",
       "      <td>1.105515</td>\n",
       "      <td>2.076149</td>\n",
       "      <td>0.039602</td>\n",
       "    </tr>\n",
       "    <tr>\n",
       "      <th>NormalPredictor</th>\n",
       "      <td>1.766150</td>\n",
       "      <td>1.353648</td>\n",
       "      <td>0.016650</td>\n",
       "      <td>0.041642</td>\n",
       "    </tr>\n",
       "  </tbody>\n",
       "</table>\n",
       "</div>"
      ],
      "text/plain": [
       "                 test_rmse  test_mae  fit_time  test_time\n",
       "Algorithm                                                \n",
       "SVDpp             1.377803  1.095880  1.059564   0.034984\n",
       "KNNBaseline       1.378202  1.095874  2.432896   0.031995\n",
       "BaselineOnly      1.378851  1.097196  0.050977   0.030989\n",
       "SVD               1.379675  1.097729  0.734374   0.034712\n",
       "CoClustering      1.387084  1.102525  1.994677   0.066081\n",
       "KNNWithMeans      1.387436  1.103432  2.505972   0.041654\n",
       "KNNBasic          1.387747  1.103736  2.336442   0.095003\n",
       "SlopeOne          1.387864  1.103250  1.541768   0.040649\n",
       "KNNWithZScore     1.387890  1.103885  2.965362   0.051003\n",
       "NMF               1.388518  1.105515  2.076149   0.039602\n",
       "NormalPredictor   1.766150  1.353648  0.016650   0.041642"
      ]
     },
     "execution_count": 21,
     "metadata": {},
     "output_type": "execute_result"
    }
   ],
   "source": [
    "t.sort_values('test_rmse')\n",
    "\n",
    "#SVDpp is the winner - SVDpp takes into account implicit interactions like above as well. "
   ]
  },
  {
   "cell_type": "code",
   "execution_count": null,
   "metadata": {},
   "outputs": [],
   "source": [
    "*Collaborative Filtering*\n",
    "\n",
    "A method to predict a rating for a user item pair based on the history of ratings given by the user and given to the item. \n",
    "Most CF algorithms are based on user-item rating matrix where each row represents a user, each column an item. \n",
    "The entries of this matrix are ratings given by users to items.\n",
    "\n",
    "\n",
    "#Singular Value Decomposition:\n",
    "\n",
    "\n",
    "The Singular Value Decomposition (SVD), a method from linear algebra that has been generally used for a dimensionality reduction technique. SVD is a matrix factorisation technique, which reduces the number of features of a dataset by reducing the dimension\n",
    "\n",
    "It uses a matrix structure where each row represents a user, and each column represents an item. \n",
    "The elements of this matrix are the ratings that are given to items by users.\n",
    "\n",
    "The factorisation of this matrix is done by the singular value decomposition. \n",
    "It finds factors of matrices from the factorisation of a high-level (user-item-rating) matrix. \n",
    "The singular value decomposition is a method of decomposing a matrix into three other matrices as given below: \n",
    "    Where A is a m x n utility matrix, \n",
    "    U is a m x r orthogonal left singular matrix, which represents the relationship between users and latent factors, \n",
    "    S is a r x r diagonal matrix, which describes the strength of each latent factor and \n",
    "    V is a r x n diagonal right singular matrix, which indicates the similarity between items and latent factors. \n",
    "    The latent factors here are the characteristics of the items, for example, the genre of the music. \n",
    "    The SVD decreases the dimension of the utility matrix A by extracting its latent factors. \n",
    "    It maps each user and each item into a r-dimensional latent space. \n",
    "    This mapping facilitates a clear representation of relationships between users and items. \n",
    "    \n",
    "\n",
    "#SVD++ :\n",
    "Modern day recommender systems should exploit all available interactions both explicit (e.g. numerical ratings) \n",
    "and implicit (e.g. likes, purchases, skipped, bookmarked). \n",
    "To this end SVD++ was designed to take into account implicit interactions like above as well. \n",
    "\n",
    "\n",
    "#Slope One\n",
    "While collaborative filtering usually calculate the similarity between vectors of items using the cosine/Pearson methods, \n",
    "the Slope One approach recommends items to users based on the average difference in preferences of items. \n",
    "\n",
    "The main idea of the algorithm is to create a linear relation between items preferences. \n",
    "Such as the relation F(x) = x + b. The name \"Slope One\" cames from the fact that here the \"x\" is multiplied by \"1\".\n",
    "\n",
    "It basically calculates the difference between the ratings of items for each user (for every item the user has rated). \n",
    "Then, it creates and average difference (diff) for every pair of items. \n",
    "To make a prediction of the Item A for an User 1: \n",
    "    -it would get the ratings that User 1 has given to other items \n",
    "    and add to it the difference (diff) between each item. With this we could obtain an average.\n",
    "\n",
    "Being R1B the rating that user 1 has given to item B, \n",
    "DiffAB the difference between ratings of item A and B, and supposing we have 10 items:\n",
    "\n",
    "\n",
    "Prediction(Item A) for User 1  = ((R1B + DiffAB) + (R1C + DiffAC) + ... (R1J + DiffAJ))/ 10\n",
    "\n",
    "e.g.)\n",
    "![image.png](attachment:image.png)\n",
    "\n",
    "#NMF (Non-negative Matrix Factorization)\n",
    "\n",
    "NMF are similar to SVD except that we now have additional constrains for U > 0 and V > 0. \n",
    "It requires all elements in the user-factor and item-factor matrix to be always positive.\n",
    "\n",
    "![image-2.png](attachment:image-2.png)\n",
    "\n",
    "\n",
    "#KNNBasic - A basic collaborative filtering algorithm\n",
    "#KNNWithMeans - taking into account the mean ratings of each user\n",
    "#KNNwithZscore - taking into account the z-score normalization of each user.\n",
    "\n",
    "#Coclustering : Clusters are assigned using a straightforward optimization method, much like k-means\n",
    "\n",
    "Basically, users and items are assigned some clusters Cu, Ci, and some co-clusters Cui.\n",
    "The prediction r^ui is set as:\n",
    "\n",
    "rui=Cui + (μu − Cu) + (μi − Ci)\n",
    "where Cui is the average rating of co-cluster Cui, \n",
    "Cu is the average rating of u’s cluster, \n",
    "Ci is the average rating of i’s cluster. \n",
    "\n",
    "#baseline : to minimize the following regularized squared error to get bu and bi\n",
    "\n",
    "      ∑          (rui−(μ+bu+bi))2+λ(b2u+b2i).\n",
    "  \n",
    "rui∈Rtrain\n",
    "\n",
    "μ= average rating\n",
    "bu = user bias\n",
    "bi = item bias\n"
   ]
  },
  {
   "cell_type": "code",
   "execution_count": null,
   "metadata": {},
   "outputs": [],
   "source": [
    "#Since SVD++ performs best, let's improve it a little bit more by finding out number of factors and RMSE for SVD++"
   ]
  },
  {
   "cell_type": "code",
   "execution_count": 27,
   "metadata": {},
   "outputs": [],
   "source": [
    "def rmse_vs_factors(algorithm, data):\n",
    "  \"\"\"Returns: rmse_algorithm i.e. a list of mean RMSE of CV = 5 in cross_validate() for each  factor k in range(1, 101, 1)\n",
    "  100 values \n",
    "  Arg:  i.) algorithm = Matrix factoization algorithm, e.g SVD/NMF/PMF, ii.)  data = surprise.dataset.DatasetAutoFolds\n",
    "  \"\"\"\n",
    "  \n",
    "  rmse_algorithm = []\n",
    "  \n",
    "  for k in range(1, 50, 2):\n",
    "    algo = algorithm(n_factors = k)\n",
    "    \n",
    "    #[\"test_rmse\"] is a numpy array with min accuracy value for each testset\n",
    "    loss_fce = cross_validate(algo, data, measures=['RMSE'], cv=5, verbose=False)[\"test_rmse\"].mean() \n",
    "    rmse_algorithm.append(loss_fce)\n",
    "  \n",
    "  return rmse_algorithm"
   ]
  },
  {
   "cell_type": "code",
   "execution_count": 28,
   "metadata": {},
   "outputs": [],
   "source": [
    "rmse=rmse_vs_factors(SVDpp,data)"
   ]
  },
  {
   "cell_type": "code",
   "execution_count": 29,
   "metadata": {},
   "outputs": [],
   "source": [
    "#Plot it "
   ]
  },
  {
   "cell_type": "code",
   "execution_count": 36,
   "metadata": {},
   "outputs": [],
   "source": [
    "def plot_rmse(rmse, algorithm):\n",
    "  \"\"\"Returns: sub plots (2x1) of rmse against number of factors. \n",
    "     Vertical line in the second subplot identifies the arg for minimum RMSE\n",
    "    \n",
    "     Arg: i.) rmse = list of mean RMSE returned by rmse_vs_factors(), ii.) algorithm = STRING! of algo \n",
    "  \"\"\"\n",
    "  \n",
    "  plt.figure(num=None, figsize=(11, 5), dpi=80, facecolor='w', edgecolor='k')\n",
    "\n",
    "  plt.subplot(2,1,1)\n",
    "  plt.plot(rmse)\n",
    "  plt.xlim(0,25)\n",
    "  plt.title(\"{0} Performance: RMSE Against Number of Factors\".format(algorithm), size = 1 )\n",
    "  plt.ylabel(\"Mean RMSE (cv=5)\")\n",
    "  plt.xticks(np.arange(0, 25, step=1))\n",
    "\n",
    "\n",
    "  plt.xlabel(\"{0}(n_factor = k)\".format(algorithm))\n",
    "  plt.axvline(np.argmin(rmse), color = \"r\")"
   ]
  },
  {
   "cell_type": "code",
   "execution_count": 37,
   "metadata": {},
   "outputs": [
    {
     "data": {
      "image/png": "[encoded data removed]",
      "text/plain": [
       "<Figure size 880x400 with 1 Axes>"
      ]
     },
     "metadata": {},
     "output_type": "display_data"
    }
   ],
   "source": [
    "plot_rmse(rmse,\"SVDpp\")"
   ]
  },
  {
   "cell_type": "code",
   "execution_count": null,
   "metadata": {},
   "outputs": [],
   "source": [
    "#According to the figure, there is an increasing trend of worse performance with higher k. \n",
    "#The lowest RMSE is achieved when k=8 but it is worth mentioning that k=12 is also very close to the RMSE achieved with only 4 latent factors. \n",
    "#Besides, the author argues that it is not probable that the user's taste (rating) is determined by such a low number of factors. \n",
    "#On the other hand, the result suggests a range of values which can be used in GridSearchCV()for parameter tunning."
   ]
  },
  {
   "cell_type": "code",
   "execution_count": null,
   "metadata": {},
   "outputs": [],
   "source": [
    "#Grid Search"
   ]
  },
  {
   "cell_type": "code",
   "execution_count": 38,
   "metadata": {},
   "outputs": [
    {
     "name": "stdout",
     "output_type": "stream",
     "text": [
      "1.3779308666276702\n",
      "{'n_factors': 6}\n"
     ]
    }
   ],
   "source": [
    "param_grid = {'n_factors': [6,8,9,12]}\n",
    "gs = GridSearchCV(SVD, param_grid, measures=['rmse'], cv=5)\n",
    "gs.fit(data)\n",
    "\n",
    "\n",
    "# best RMSE score\n",
    "print(gs.best_score['rmse'])\n",
    "\n",
    "# combination of parameters that gave the best RMSE score\n",
    "print(gs.best_params['rmse'])"
   ]
  },
  {
   "cell_type": "code",
   "execution_count": null,
   "metadata": {},
   "outputs": [],
   "source": [
    "# To make the model generalizable, i.e. avoid over and underfitting, the grid algorithm finds n_factors = 6 optimal."
   ]
  },
  {
   "cell_type": "code",
   "execution_count": null,
   "metadata": {},
   "outputs": [],
   "source": [
    "# Training SVD Algorithm and Predictions: https://www.jiristodulka.com/post/recsys_cf/"
   ]
  },
  {
   "cell_type": "code",
   "execution_count": null,
   "metadata": {},
   "outputs": [],
   "source": [
    "# Comparing Historical data and Prediction\n",
    "\n",
    "#Step1 :Map the predictions to each user.\n",
    "\n",
    "#Step2 :Return: i.) recommendations for any given userId and ii.) the user's historical ratings \n",
    "# (From Surprise Official doc - Part I. comes from the official Surprise documentation. It maps the prediction to each user, sorts them in descending order, and returns the top n (by default 10) recommended movies for the userId specified as the argument of the function.) \n",
    "\n",
    "#Step3 :Return the above objects with specific reference in a readable format (i.e. tidy DataFrame)"
   ]
  },
  {
   "cell_type": "code",
   "execution_count": 77,
   "metadata": {},
   "outputs": [],
   "source": [
    "# our rating scale start from 1 and end at 5. so rating_scale = (1,5)\n",
    "reader = Reader(rating_scale=(1, 5))\n",
    "\n",
    "# Load the data\n",
    "data = Dataset.load_from_df(sampled[['userId','productId','rating']], reader)"
   ]
  },
  {
   "cell_type": "code",
   "execution_count": 78,
   "metadata": {},
   "outputs": [
    {
     "data": {
      "text/plain": [
       "<surprise.prediction_algorithms.matrix_factorization.SVDpp at 0x1ca87a16760>"
      ]
     },
     "execution_count": 78,
     "metadata": {},
     "output_type": "execute_result"
    }
   ],
   "source": [
    "algo_SVDpp = SVDpp(n_factors = 6)\n",
    "algo_SVD.fit(trainset)"
   ]
  },
  {
   "cell_type": "code",
   "execution_count": 79,
   "metadata": {},
   "outputs": [],
   "source": [
    "# Then predict ratings for all pairs (u, i) that are NOT in the training set.\n",
    "testset = trainset.build_anti_testset()"
   ]
  },
  {
   "cell_type": "code",
   "execution_count": 80,
   "metadata": {},
   "outputs": [
    {
     "data": {
      "text/plain": [
       "107063612"
      ]
     },
     "execution_count": 80,
     "metadata": {},
     "output_type": "execute_result"
    }
   ],
   "source": [
    "len(testset)"
   ]
  },
  {
   "cell_type": "code",
   "execution_count": null,
   "metadata": {},
   "outputs": [],
   "source": [
    "# The test set got so big due to data sparcity but below code use Surprise built in top_n function and will return items real value vs predicted value\n",
    "\n",
    "predictions = algo.test(testset)\n",
    "\n",
    "top_n = get_top_n(predictions, n=10)\n",
    "\n",
    "# Print the recommended items for each user\n",
    "for uid, user_ratings in top_n.items():\n",
    "    print(uid, [iid for (iid, _) in user_ratings])\n"
   ]
  },
  {
   "cell_type": "code",
   "execution_count": null,
   "metadata": {},
   "outputs": [],
   "source": [
    "algo_SVDpp = SVDpp(n_factors = 6)\n",
    "algo_SVD.fit(trainset)\n",
    "# Then predict ratings for all pairs (u, i) that are NOT in the training set.\n",
    "testset = trainset.build_anti_testset()\n",
    "\n",
    "predictions = algo.test(testset)\n",
    "\n",
    "top_n = get_top_n(predictions, n=10)\n",
    "\n",
    "# Print the recommended items for each user\n",
    "for uid, user_ratings in top_n.items():\n",
    "    print(uid, [iid for (iid, _) in user_ratings])    "
   ]
  }
 ],
 "metadata": {
  "kernelspec": {
   "display_name": "Python 3",
   "language": "python",
   "name": "python3"
  },
  "language_info": {
   "codemirror_mode": {
    "name": "ipython",
    "version": 3
   },
   "file_extension": ".py",
   "mimetype": "text/x-python",
   "name": "python",
   "nbconvert_exporter": "python",
   "pygments_lexer": "ipython3",
   "version": "3.8.5"
  }
 },
 "nbformat": 4,
 "nbformat_minor": 4
}
