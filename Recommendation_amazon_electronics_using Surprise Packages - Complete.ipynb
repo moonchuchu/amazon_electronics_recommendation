{
 "cells": [
  {
   "cell_type": "markdown",
   "metadata": {},
   "source": [
    "<span style='background:yellow'> <span style='font-family:Georgia'>  ## Load necessary packages  </span>"
   ]
  },
  {
   "cell_type": "code",
   "execution_count": 23,
   "metadata": {},
   "outputs": [],
   "source": [
    "import numpy as np\n",
    "import pandas as pd\n",
    "import seaborn as sns\n",
    "import matplotlib.pyplot as plt\n",
    "%matplotlib inline\n",
    "\n",
    "from sklearn.model_selection import train_test_split\n"
   ]
  },
  {
   "cell_type": "markdown",
   "metadata": {},
   "source": [
    "<span style='background:yellow'> <span style='font-family:Georgia'>  ## Read the data  </span>"
   ]
  },
  {
   "cell_type": "code",
   "execution_count": 24,
   "metadata": {},
   "outputs": [
    {
     "data": {
      "text/html": [
       "<div>\n",
       "<style scoped>\n",
       "    .dataframe tbody tr th:only-of-type {\n",
       "        vertical-align: middle;\n",
       "    }\n",
       "\n",
       "    .dataframe tbody tr th {\n",
       "        vertical-align: top;\n",
       "    }\n",
       "\n",
       "    .dataframe thead th {\n",
       "        text-align: right;\n",
       "    }\n",
       "</style>\n",
       "<table border=\"1\" class=\"dataframe\">\n",
       "  <thead>\n",
       "    <tr style=\"text-align: right;\">\n",
       "      <th></th>\n",
       "      <th>userId</th>\n",
       "      <th>productId</th>\n",
       "      <th>rating</th>\n",
       "      <th>timestamp</th>\n",
       "    </tr>\n",
       "  </thead>\n",
       "  <tbody>\n",
       "    <tr>\n",
       "      <th>0</th>\n",
       "      <td>AKM1MP6P0OYPR</td>\n",
       "      <td>0132793040</td>\n",
       "      <td>5.0</td>\n",
       "      <td>1365811200</td>\n",
       "    </tr>\n",
       "    <tr>\n",
       "      <th>1</th>\n",
       "      <td>A2CX7LUOHB2NDG</td>\n",
       "      <td>0321732944</td>\n",
       "      <td>5.0</td>\n",
       "      <td>1341100800</td>\n",
       "    </tr>\n",
       "    <tr>\n",
       "      <th>2</th>\n",
       "      <td>A2NWSAGRHCP8N5</td>\n",
       "      <td>0439886341</td>\n",
       "      <td>1.0</td>\n",
       "      <td>1367193600</td>\n",
       "    </tr>\n",
       "    <tr>\n",
       "      <th>3</th>\n",
       "      <td>A2WNBOD3WNDNKT</td>\n",
       "      <td>0439886341</td>\n",
       "      <td>3.0</td>\n",
       "      <td>1374451200</td>\n",
       "    </tr>\n",
       "    <tr>\n",
       "      <th>4</th>\n",
       "      <td>A1GI0U4ZRJA8WN</td>\n",
       "      <td>0439886341</td>\n",
       "      <td>1.0</td>\n",
       "      <td>1334707200</td>\n",
       "    </tr>\n",
       "  </tbody>\n",
       "</table>\n",
       "</div>"
      ],
      "text/plain": [
       "           userId   productId  rating   timestamp\n",
       "0   AKM1MP6P0OYPR  0132793040     5.0  1365811200\n",
       "1  A2CX7LUOHB2NDG  0321732944     5.0  1341100800\n",
       "2  A2NWSAGRHCP8N5  0439886341     1.0  1367193600\n",
       "3  A2WNBOD3WNDNKT  0439886341     3.0  1374451200\n",
       "4  A1GI0U4ZRJA8WN  0439886341     1.0  1334707200"
      ]
     },
     "execution_count": 24,
     "metadata": {},
     "output_type": "execute_result"
    }
   ],
   "source": [
    "df = pd.read_csv('C:/Users/eymoo/Documents/Recommendation/ratings_Electronics (1).csv', names=['userId', 'productId','rating','timestamp'])\n",
    "df.head()"
   ]
  },
  {
   "cell_type": "code",
   "execution_count": 25,
   "metadata": {},
   "outputs": [
    {
     "data": {
      "text/plain": [
       "7824482"
      ]
     },
     "execution_count": 25,
     "metadata": {},
     "output_type": "execute_result"
    }
   ],
   "source": [
    "len(df)"
   ]
  },
  {
   "cell_type": "markdown",
   "metadata": {},
   "source": [
    "<span style='background:yellow'> <span style='font-family:Georgia'>  ## Data is too big (7.8MM).. let's random sample.. maybe 5% of total?  </span> "
   ]
  },
  {
   "cell_type": "code",
   "execution_count": 26,
   "metadata": {},
   "outputs": [
    {
     "data": {
      "text/html": [
       "<div>\n",
       "<style scoped>\n",
       "    .dataframe tbody tr th:only-of-type {\n",
       "        vertical-align: middle;\n",
       "    }\n",
       "\n",
       "    .dataframe tbody tr th {\n",
       "        vertical-align: top;\n",
       "    }\n",
       "\n",
       "    .dataframe thead th {\n",
       "        text-align: right;\n",
       "    }\n",
       "</style>\n",
       "<table border=\"1\" class=\"dataframe\">\n",
       "  <thead>\n",
       "    <tr style=\"text-align: right;\">\n",
       "      <th></th>\n",
       "      <th>userId</th>\n",
       "      <th>productId</th>\n",
       "      <th>rating</th>\n",
       "      <th>timestamp</th>\n",
       "    </tr>\n",
       "  </thead>\n",
       "  <tbody>\n",
       "    <tr>\n",
       "      <th>4322341</th>\n",
       "      <td>A2NAUP5YWC456C</td>\n",
       "      <td>B004OFPFVQ</td>\n",
       "      <td>5.0</td>\n",
       "      <td>1325289600</td>\n",
       "    </tr>\n",
       "    <tr>\n",
       "      <th>4686059</th>\n",
       "      <td>A105S56ODHGJEK</td>\n",
       "      <td>B0054CFKQI</td>\n",
       "      <td>5.0</td>\n",
       "      <td>1316476800</td>\n",
       "    </tr>\n",
       "    <tr>\n",
       "      <th>6762380</th>\n",
       "      <td>A3FU5IXOUUW0GR</td>\n",
       "      <td>B009WU5XUG</td>\n",
       "      <td>4.0</td>\n",
       "      <td>1376006400</td>\n",
       "    </tr>\n",
       "    <tr>\n",
       "      <th>3937352</th>\n",
       "      <td>AP5MLYKGVKA5M</td>\n",
       "      <td>B0047XRVWQ</td>\n",
       "      <td>5.0</td>\n",
       "      <td>1398556800</td>\n",
       "    </tr>\n",
       "    <tr>\n",
       "      <th>491263</th>\n",
       "      <td>A187PVL5FKH48Z</td>\n",
       "      <td>B0002L5R78</td>\n",
       "      <td>5.0</td>\n",
       "      <td>1327708800</td>\n",
       "    </tr>\n",
       "    <tr>\n",
       "      <th>5030793</th>\n",
       "      <td>A265IEMG2K5R4W</td>\n",
       "      <td>B005JXAEGS</td>\n",
       "      <td>4.0</td>\n",
       "      <td>1320710400</td>\n",
       "    </tr>\n",
       "  </tbody>\n",
       "</table>\n",
       "</div>"
      ],
      "text/plain": [
       "                 userId   productId  rating   timestamp\n",
       "4322341  A2NAUP5YWC456C  B004OFPFVQ     5.0  1325289600\n",
       "4686059  A105S56ODHGJEK  B0054CFKQI     5.0  1316476800\n",
       "6762380  A3FU5IXOUUW0GR  B009WU5XUG     4.0  1376006400\n",
       "3937352   AP5MLYKGVKA5M  B0047XRVWQ     5.0  1398556800\n",
       "491263   A187PVL5FKH48Z  B0002L5R78     5.0  1327708800\n",
       "5030793  A265IEMG2K5R4W  B005JXAEGS     4.0  1320710400"
      ]
     },
     "execution_count": 26,
     "metadata": {},
     "output_type": "execute_result"
    }
   ],
   "source": [
    "sampled = df.sample(frac=0.05, replace=True, random_state=1)\n",
    "sampled.columns = ['userId', 'productId','rating','timestamp']\n",
    "sampled.head(6)"
   ]
  },
  {
   "cell_type": "markdown",
   "metadata": {},
   "source": [
    "<span style='background:yellow'> <span style='font-family:Georgia'>  ## Let's take a look at the distribution  </span> "
   ]
  },
  {
   "cell_type": "code",
   "execution_count": 29,
   "metadata": {},
   "outputs": [
    {
     "data": {
      "text/plain": [
       "userId       4201696\n",
       "productId     476002\n",
       "rating             5\n",
       "timestamp       5489\n",
       "dtype: int64"
      ]
     },
     "execution_count": 29,
     "metadata": {},
     "output_type": "execute_result"
    }
   ],
   "source": [
    "#original one\n",
    "df.nunique()"
   ]
  },
  {
   "cell_type": "code",
   "execution_count": 30,
   "metadata": {},
   "outputs": [
    {
     "data": {
      "text/plain": [
       "userId       349403\n",
       "productId    112052\n",
       "rating            5\n",
       "timestamp      5120\n",
       "dtype: int64"
      ]
     },
     "execution_count": 30,
     "metadata": {},
     "output_type": "execute_result"
    }
   ],
   "source": [
    "#sampled one\n",
    "sampled.nunique()"
   ]
  },
  {
   "cell_type": "markdown",
   "metadata": {},
   "source": [
    "<span style='background:yellow'> <span style='font-family:Georgia'>  ## Quick Visualization of sampled distribution and total distribution </span> "
   ]
  },
  {
   "cell_type": "code",
   "execution_count": 20,
   "metadata": {},
   "outputs": [
    {
     "data": {
      "text/plain": [
       "array([[<AxesSubplot:title={'center':'rating'}>]], dtype=object)"
      ]
     },
     "execution_count": 20,
     "metadata": {},
     "output_type": "execute_result"
    },
    {
     "data": {
      "image/png": "[encoded data removed]",
      "text/plain": [
       "<Figure size 432x288 with 1 Axes>"
      ]
     },
     "metadata": {
      "needs_background": "light"
     },
     "output_type": "display_data"
    }
   ],
   "source": [
    "sampled.hist(column='rating')"
   ]
  },
  {
   "cell_type": "code",
   "execution_count": 28,
   "metadata": {},
   "outputs": [
    {
     "data": {
      "text/plain": [
       "array([[<AxesSubplot:title={'center':'rating'}>]], dtype=object)"
      ]
     },
     "execution_count": 28,
     "metadata": {},
     "output_type": "execute_result"
    },
    {
     "data": {
      "image/png": "[encoded data removed]",
      "text/plain": [
       "<Figure size 432x288 with 1 Axes>"
      ]
     },
     "metadata": {
      "needs_background": "light"
     },
     "output_type": "display_data"
    }
   ],
   "source": [
    "df.hist(column='rating')  "
   ]
  },
  {
   "cell_type": "markdown",
   "metadata": {},
   "source": [
    "<span style='background:yellow'> <span style='font-family:Georgia'>  ## Distribution in terms of rating per user  </span> "
   ]
  },
  {
   "cell_type": "code",
   "execution_count": 31,
   "metadata": {},
   "outputs": [],
   "source": [
    "sampled['countd']=sampled['userId'].value_counts()"
   ]
  },
  {
   "cell_type": "code",
   "execution_count": 49,
   "metadata": {},
   "outputs": [],
   "source": [
    "countd=sampled['userId'].value_counts()"
   ]
  },
  {
   "cell_type": "code",
   "execution_count": 52,
   "metadata": {},
   "outputs": [
    {
     "data": {
      "text/plain": [
       "ADLVFFE4VBT8      24\n",
       "A5JLAU2ARJ0BO     23\n",
       "A25C2M3QF9G7OQ    22\n",
       "A2AY4YUOX2N1BQ    21\n",
       "A3OXHLG6DIBRW8    20\n",
       "                  ..\n",
       "A28WTYI12HZ354     1\n",
       "ALAZVU7HLNWX8      1\n",
       "A3HIN3FEL7IEH0     1\n",
       "A2XH9M404U7ZII     1\n",
       "AMTKF4RE0P8U5      1\n",
       "Name: userId, Length: 349403, dtype: int64"
      ]
     },
     "execution_count": 52,
     "metadata": {},
     "output_type": "execute_result"
    }
   ],
   "source": [
    "countd"
   ]
  },
  {
   "cell_type": "code",
   "execution_count": 54,
   "metadata": {},
   "outputs": [
    {
     "data": {
      "text/plain": [
       "<AxesSubplot:>"
      ]
     },
     "execution_count": 54,
     "metadata": {},
     "output_type": "execute_result"
    },
    {
     "data": {
      "image/png": "[encoded data removed]",
      "text/plain": [
       "<Figure size 432x288 with 1 Axes>"
      ]
     },
     "metadata": {
      "needs_background": "light"
     },
     "output_type": "display_data"
    }
   ],
   "source": [
    "countd.hist(bins=100)"
   ]
  },
  {
   "cell_type": "code",
   "execution_count": 60,
   "metadata": {},
   "outputs": [
    {
     "data": {
      "image/png": "[encoded data removed]",
      "text/plain": [
       "<Figure size 432x288 with 1 Axes>"
      ]
     },
     "metadata": {
      "needs_background": "light"
     },
     "output_type": "display_data"
    }
   ],
   "source": [
    "import numpy as np\n",
    "import matplotlib.pyplot as plt\n",
    "from matplotlib.ticker import PercentFormatter\n",
    "\n",
    "plt.hist(countd, weights=np.ones(len(countd)) / len(countd), bins=50)\n",
    "plt.gca().yaxis.set_major_formatter(PercentFormatter(1))\n",
    "plt.show()"
   ]
  },
  {
   "cell_type": "markdown",
   "metadata": {},
   "source": [
    "<span style='background:yellow'> <span style='font-family:Georgia'>  ## 90% of users in sample data gave 1 rating only, which makes the data too sparse. Let's try another way.\n",
    "Download the data again, taking another look..\n",
    "\n",
    "</span> "
   ]
  },
  {
   "cell_type": "code",
   "execution_count": 63,
   "metadata": {},
   "outputs": [
    {
     "data": {
      "text/html": [
       "<div>\n",
       "<style scoped>\n",
       "    .dataframe tbody tr th:only-of-type {\n",
       "        vertical-align: middle;\n",
       "    }\n",
       "\n",
       "    .dataframe tbody tr th {\n",
       "        vertical-align: top;\n",
       "    }\n",
       "\n",
       "    .dataframe thead th {\n",
       "        text-align: right;\n",
       "    }\n",
       "</style>\n",
       "<table border=\"1\" class=\"dataframe\">\n",
       "  <thead>\n",
       "    <tr style=\"text-align: right;\">\n",
       "      <th></th>\n",
       "      <th>userId</th>\n",
       "      <th>productId</th>\n",
       "      <th>rating</th>\n",
       "      <th>timestamp</th>\n",
       "    </tr>\n",
       "  </thead>\n",
       "  <tbody>\n",
       "    <tr>\n",
       "      <th>0</th>\n",
       "      <td>AKM1MP6P0OYPR</td>\n",
       "      <td>0132793040</td>\n",
       "      <td>5.0</td>\n",
       "      <td>1365811200</td>\n",
       "    </tr>\n",
       "    <tr>\n",
       "      <th>1</th>\n",
       "      <td>A2CX7LUOHB2NDG</td>\n",
       "      <td>0321732944</td>\n",
       "      <td>5.0</td>\n",
       "      <td>1341100800</td>\n",
       "    </tr>\n",
       "    <tr>\n",
       "      <th>2</th>\n",
       "      <td>A2NWSAGRHCP8N5</td>\n",
       "      <td>0439886341</td>\n",
       "      <td>1.0</td>\n",
       "      <td>1367193600</td>\n",
       "    </tr>\n",
       "    <tr>\n",
       "      <th>3</th>\n",
       "      <td>A2WNBOD3WNDNKT</td>\n",
       "      <td>0439886341</td>\n",
       "      <td>3.0</td>\n",
       "      <td>1374451200</td>\n",
       "    </tr>\n",
       "    <tr>\n",
       "      <th>4</th>\n",
       "      <td>A1GI0U4ZRJA8WN</td>\n",
       "      <td>0439886341</td>\n",
       "      <td>1.0</td>\n",
       "      <td>1334707200</td>\n",
       "    </tr>\n",
       "  </tbody>\n",
       "</table>\n",
       "</div>"
      ],
      "text/plain": [
       "           userId   productId  rating   timestamp\n",
       "0   AKM1MP6P0OYPR  0132793040     5.0  1365811200\n",
       "1  A2CX7LUOHB2NDG  0321732944     5.0  1341100800\n",
       "2  A2NWSAGRHCP8N5  0439886341     1.0  1367193600\n",
       "3  A2WNBOD3WNDNKT  0439886341     3.0  1374451200\n",
       "4  A1GI0U4ZRJA8WN  0439886341     1.0  1334707200"
      ]
     },
     "execution_count": 63,
     "metadata": {},
     "output_type": "execute_result"
    }
   ],
   "source": [
    "df = pd.read_csv('C:/Users/eymoo/Documents/Recommendation/ratings_Electronics (1).csv', names=['userId', 'productId','rating','timestamp'])\n",
    "df.head()"
   ]
  },
  {
   "cell_type": "code",
   "execution_count": 64,
   "metadata": {},
   "outputs": [],
   "source": [
    "countdf=df['userId'].value_counts()"
   ]
  },
  {
   "cell_type": "code",
   "execution_count": 65,
   "metadata": {},
   "outputs": [
    {
     "data": {
      "text/plain": [
       "A5JLAU2ARJ0BO     520\n",
       "ADLVFFE4VBT8      501\n",
       "A3OXHLG6DIBRW8    498\n",
       "A6FIAB28IS79      431\n",
       "A680RUE1FDO8B     406\n",
       "A1ODOGXEYECQQ8    380\n",
       "A36K2N527TXXJN    314\n",
       "A2AY4YUOX2N1BQ    311\n",
       "AWPODHOB4GFWL     308\n",
       "ARBKYIVNYWK3C     296\n",
       "Name: userId, dtype: int64"
      ]
     },
     "execution_count": 65,
     "metadata": {},
     "output_type": "execute_result"
    }
   ],
   "source": [
    "countdf.head(10)"
   ]
  },
  {
   "cell_type": "code",
   "execution_count": 66,
   "metadata": {},
   "outputs": [
    {
     "data": {
      "text/plain": [
       "44209"
      ]
     },
     "execution_count": 66,
     "metadata": {},
     "output_type": "execute_result"
    }
   ],
   "source": [
    "len(df[df['userId'].isin(countdf[countdf >= 100].index)])"
   ]
  },
  {
   "cell_type": "markdown",
   "metadata": {},
   "source": [
    "<span style='background:yellow'> <span style='font-family:Georgia'>  ## If I take users with 100 reviews then it will be 44209. Let's plan to use this data </span> "
   ]
  },
  {
   "cell_type": "code",
   "execution_count": 70,
   "metadata": {},
   "outputs": [],
   "source": [
    "new_df=df[df['userId'].isin(countdf[countdf >= 100].index)]"
   ]
  },
  {
   "cell_type": "code",
   "execution_count": 71,
   "metadata": {},
   "outputs": [
    {
     "data": {
      "text/html": [
       "<div>\n",
       "<style scoped>\n",
       "    .dataframe tbody tr th:only-of-type {\n",
       "        vertical-align: middle;\n",
       "    }\n",
       "\n",
       "    .dataframe tbody tr th {\n",
       "        vertical-align: top;\n",
       "    }\n",
       "\n",
       "    .dataframe thead th {\n",
       "        text-align: right;\n",
       "    }\n",
       "</style>\n",
       "<table border=\"1\" class=\"dataframe\">\n",
       "  <thead>\n",
       "    <tr style=\"text-align: right;\">\n",
       "      <th></th>\n",
       "      <th>userId</th>\n",
       "      <th>productId</th>\n",
       "      <th>rating</th>\n",
       "      <th>timestamp</th>\n",
       "    </tr>\n",
       "  </thead>\n",
       "  <tbody>\n",
       "    <tr>\n",
       "      <th>118</th>\n",
       "      <td>AT09WGFUM934H</td>\n",
       "      <td>0594481813</td>\n",
       "      <td>3.0</td>\n",
       "      <td>1377907200</td>\n",
       "    </tr>\n",
       "    <tr>\n",
       "      <th>178</th>\n",
       "      <td>A17HMM1M7T9PJ1</td>\n",
       "      <td>0970407998</td>\n",
       "      <td>4.0</td>\n",
       "      <td>1281744000</td>\n",
       "    </tr>\n",
       "    <tr>\n",
       "      <th>631</th>\n",
       "      <td>A3TAS1AG6FMBQW</td>\n",
       "      <td>0972683275</td>\n",
       "      <td>5.0</td>\n",
       "      <td>1353456000</td>\n",
       "    </tr>\n",
       "    <tr>\n",
       "      <th>1777</th>\n",
       "      <td>A18S2VGUH9SCV5</td>\n",
       "      <td>1400501776</td>\n",
       "      <td>4.0</td>\n",
       "      <td>1340755200</td>\n",
       "    </tr>\n",
       "    <tr>\n",
       "      <th>2162</th>\n",
       "      <td>A5JLAU2ARJ0BO</td>\n",
       "      <td>1400532655</td>\n",
       "      <td>1.0</td>\n",
       "      <td>1291334400</td>\n",
       "    </tr>\n",
       "    <tr>\n",
       "      <th>2437</th>\n",
       "      <td>A3HPCRD9RX351S</td>\n",
       "      <td>1400532655</td>\n",
       "      <td>3.0</td>\n",
       "      <td>1332028800</td>\n",
       "    </tr>\n",
       "    <tr>\n",
       "      <th>3050</th>\n",
       "      <td>ALUNVOQRXOZIA</td>\n",
       "      <td>1400599997</td>\n",
       "      <td>1.0</td>\n",
       "      <td>1271548800</td>\n",
       "    </tr>\n",
       "    <tr>\n",
       "      <th>3383</th>\n",
       "      <td>A3PD8JD9L4WEII</td>\n",
       "      <td>1400699169</td>\n",
       "      <td>5.0</td>\n",
       "      <td>1372204800</td>\n",
       "    </tr>\n",
       "    <tr>\n",
       "      <th>3630</th>\n",
       "      <td>ABVYGB2TKBO8F</td>\n",
       "      <td>1685560148</td>\n",
       "      <td>5.0</td>\n",
       "      <td>1351468800</td>\n",
       "    </tr>\n",
       "    <tr>\n",
       "      <th>4251</th>\n",
       "      <td>A1U5IJHJK84S54</td>\n",
       "      <td>7562434166</td>\n",
       "      <td>3.0</td>\n",
       "      <td>1384387200</td>\n",
       "    </tr>\n",
       "  </tbody>\n",
       "</table>\n",
       "</div>"
      ],
      "text/plain": [
       "              userId   productId  rating   timestamp\n",
       "118    AT09WGFUM934H  0594481813     3.0  1377907200\n",
       "178   A17HMM1M7T9PJ1  0970407998     4.0  1281744000\n",
       "631   A3TAS1AG6FMBQW  0972683275     5.0  1353456000\n",
       "1777  A18S2VGUH9SCV5  1400501776     4.0  1340755200\n",
       "2162   A5JLAU2ARJ0BO  1400532655     1.0  1291334400\n",
       "2437  A3HPCRD9RX351S  1400532655     3.0  1332028800\n",
       "3050   ALUNVOQRXOZIA  1400599997     1.0  1271548800\n",
       "3383  A3PD8JD9L4WEII  1400699169     5.0  1372204800\n",
       "3630   ABVYGB2TKBO8F  1685560148     5.0  1351468800\n",
       "4251  A1U5IJHJK84S54  7562434166     3.0  1384387200"
      ]
     },
     "execution_count": 71,
     "metadata": {},
     "output_type": "execute_result"
    }
   ],
   "source": [
    "new_df.head(10)"
   ]
  },
  {
   "cell_type": "code",
   "execution_count": 148,
   "metadata": {},
   "outputs": [],
   "source": [
    "#Calculate the density of the rating matrix - product ratings per user ID\n",
    "\n",
    "final_ratings_matrix = new_df.pivot(index = 'userId', columns ='productId', values = 'rating').fillna(0)\n"
   ]
  },
  {
   "cell_type": "code",
   "execution_count": 149,
   "metadata": {},
   "outputs": [
    {
     "data": {
      "text/html": [
       "<div>\n",
       "<style scoped>\n",
       "    .dataframe tbody tr th:only-of-type {\n",
       "        vertical-align: middle;\n",
       "    }\n",
       "\n",
       "    .dataframe tbody tr th {\n",
       "        vertical-align: top;\n",
       "    }\n",
       "\n",
       "    .dataframe thead th {\n",
       "        text-align: right;\n",
       "    }\n",
       "</style>\n",
       "<table border=\"1\" class=\"dataframe\">\n",
       "  <thead>\n",
       "    <tr style=\"text-align: right;\">\n",
       "      <th>productId</th>\n",
       "      <th>0594481813</th>\n",
       "      <th>0970407998</th>\n",
       "      <th>0972683275</th>\n",
       "      <th>1400501776</th>\n",
       "      <th>1400532655</th>\n",
       "      <th>1400599997</th>\n",
       "      <th>1400699169</th>\n",
       "      <th>1685560148</th>\n",
       "      <th>7562434166</th>\n",
       "      <th>787988002X</th>\n",
       "      <th>...</th>\n",
       "      <th>B00L2P3TRS</th>\n",
       "      <th>B00L3YHF6O</th>\n",
       "      <th>B00L403O94</th>\n",
       "      <th>B00L43HAY6</th>\n",
       "      <th>B00L8I6SFY</th>\n",
       "      <th>B00LA6T0LS</th>\n",
       "      <th>B00LBZ1Z7K</th>\n",
       "      <th>B00LGQ6HL8</th>\n",
       "      <th>B00LI4ZZO8</th>\n",
       "      <th>B00LKG1MC8</th>\n",
       "    </tr>\n",
       "    <tr>\n",
       "      <th>userId</th>\n",
       "      <th></th>\n",
       "      <th></th>\n",
       "      <th></th>\n",
       "      <th></th>\n",
       "      <th></th>\n",
       "      <th></th>\n",
       "      <th></th>\n",
       "      <th></th>\n",
       "      <th></th>\n",
       "      <th></th>\n",
       "      <th></th>\n",
       "      <th></th>\n",
       "      <th></th>\n",
       "      <th></th>\n",
       "      <th></th>\n",
       "      <th></th>\n",
       "      <th></th>\n",
       "      <th></th>\n",
       "      <th></th>\n",
       "      <th></th>\n",
       "      <th></th>\n",
       "    </tr>\n",
       "  </thead>\n",
       "  <tbody>\n",
       "    <tr>\n",
       "      <th>A100UD67AHFODS</th>\n",
       "      <td>0.0</td>\n",
       "      <td>0.0</td>\n",
       "      <td>0.0</td>\n",
       "      <td>0.0</td>\n",
       "      <td>0.0</td>\n",
       "      <td>0.0</td>\n",
       "      <td>0.0</td>\n",
       "      <td>0.0</td>\n",
       "      <td>0.0</td>\n",
       "      <td>0.0</td>\n",
       "      <td>...</td>\n",
       "      <td>0.0</td>\n",
       "      <td>0.0</td>\n",
       "      <td>0.0</td>\n",
       "      <td>0.0</td>\n",
       "      <td>0.0</td>\n",
       "      <td>0.0</td>\n",
       "      <td>0.0</td>\n",
       "      <td>0.0</td>\n",
       "      <td>0.0</td>\n",
       "      <td>0.0</td>\n",
       "    </tr>\n",
       "    <tr>\n",
       "      <th>A100WO06OQR8BQ</th>\n",
       "      <td>0.0</td>\n",
       "      <td>0.0</td>\n",
       "      <td>0.0</td>\n",
       "      <td>0.0</td>\n",
       "      <td>0.0</td>\n",
       "      <td>0.0</td>\n",
       "      <td>0.0</td>\n",
       "      <td>0.0</td>\n",
       "      <td>0.0</td>\n",
       "      <td>0.0</td>\n",
       "      <td>...</td>\n",
       "      <td>0.0</td>\n",
       "      <td>0.0</td>\n",
       "      <td>0.0</td>\n",
       "      <td>0.0</td>\n",
       "      <td>0.0</td>\n",
       "      <td>0.0</td>\n",
       "      <td>0.0</td>\n",
       "      <td>0.0</td>\n",
       "      <td>0.0</td>\n",
       "      <td>0.0</td>\n",
       "    </tr>\n",
       "    <tr>\n",
       "      <th>A10PEXB6XAQ5XF</th>\n",
       "      <td>0.0</td>\n",
       "      <td>0.0</td>\n",
       "      <td>0.0</td>\n",
       "      <td>0.0</td>\n",
       "      <td>0.0</td>\n",
       "      <td>0.0</td>\n",
       "      <td>0.0</td>\n",
       "      <td>0.0</td>\n",
       "      <td>0.0</td>\n",
       "      <td>0.0</td>\n",
       "      <td>...</td>\n",
       "      <td>0.0</td>\n",
       "      <td>0.0</td>\n",
       "      <td>0.0</td>\n",
       "      <td>0.0</td>\n",
       "      <td>0.0</td>\n",
       "      <td>0.0</td>\n",
       "      <td>0.0</td>\n",
       "      <td>0.0</td>\n",
       "      <td>0.0</td>\n",
       "      <td>0.0</td>\n",
       "    </tr>\n",
       "    <tr>\n",
       "      <th>A10Y058K7B96C6</th>\n",
       "      <td>0.0</td>\n",
       "      <td>0.0</td>\n",
       "      <td>0.0</td>\n",
       "      <td>0.0</td>\n",
       "      <td>0.0</td>\n",
       "      <td>0.0</td>\n",
       "      <td>0.0</td>\n",
       "      <td>0.0</td>\n",
       "      <td>0.0</td>\n",
       "      <td>0.0</td>\n",
       "      <td>...</td>\n",
       "      <td>0.0</td>\n",
       "      <td>0.0</td>\n",
       "      <td>0.0</td>\n",
       "      <td>0.0</td>\n",
       "      <td>0.0</td>\n",
       "      <td>0.0</td>\n",
       "      <td>0.0</td>\n",
       "      <td>0.0</td>\n",
       "      <td>0.0</td>\n",
       "      <td>0.0</td>\n",
       "    </tr>\n",
       "    <tr>\n",
       "      <th>A10ZFE6YE0UHW8</th>\n",
       "      <td>0.0</td>\n",
       "      <td>0.0</td>\n",
       "      <td>0.0</td>\n",
       "      <td>0.0</td>\n",
       "      <td>0.0</td>\n",
       "      <td>0.0</td>\n",
       "      <td>0.0</td>\n",
       "      <td>0.0</td>\n",
       "      <td>0.0</td>\n",
       "      <td>0.0</td>\n",
       "      <td>...</td>\n",
       "      <td>0.0</td>\n",
       "      <td>0.0</td>\n",
       "      <td>0.0</td>\n",
       "      <td>0.0</td>\n",
       "      <td>0.0</td>\n",
       "      <td>0.0</td>\n",
       "      <td>0.0</td>\n",
       "      <td>0.0</td>\n",
       "      <td>0.0</td>\n",
       "      <td>0.0</td>\n",
       "    </tr>\n",
       "  </tbody>\n",
       "</table>\n",
       "<p>5 rows × 22635 columns</p>\n",
       "</div>"
      ],
      "text/plain": [
       "productId       0594481813  0970407998  0972683275  1400501776  1400532655  \\\n",
       "userId                                                                       \n",
       "A100UD67AHFODS         0.0         0.0         0.0         0.0         0.0   \n",
       "A100WO06OQR8BQ         0.0         0.0         0.0         0.0         0.0   \n",
       "A10PEXB6XAQ5XF         0.0         0.0         0.0         0.0         0.0   \n",
       "A10Y058K7B96C6         0.0         0.0         0.0         0.0         0.0   \n",
       "A10ZFE6YE0UHW8         0.0         0.0         0.0         0.0         0.0   \n",
       "\n",
       "productId       1400599997  1400699169  1685560148  7562434166  787988002X  \\\n",
       "userId                                                                       \n",
       "A100UD67AHFODS         0.0         0.0         0.0         0.0         0.0   \n",
       "A100WO06OQR8BQ         0.0         0.0         0.0         0.0         0.0   \n",
       "A10PEXB6XAQ5XF         0.0         0.0         0.0         0.0         0.0   \n",
       "A10Y058K7B96C6         0.0         0.0         0.0         0.0         0.0   \n",
       "A10ZFE6YE0UHW8         0.0         0.0         0.0         0.0         0.0   \n",
       "\n",
       "productId       ...  B00L2P3TRS  B00L3YHF6O  B00L403O94  B00L43HAY6  \\\n",
       "userId          ...                                                   \n",
       "A100UD67AHFODS  ...         0.0         0.0         0.0         0.0   \n",
       "A100WO06OQR8BQ  ...         0.0         0.0         0.0         0.0   \n",
       "A10PEXB6XAQ5XF  ...         0.0         0.0         0.0         0.0   \n",
       "A10Y058K7B96C6  ...         0.0         0.0         0.0         0.0   \n",
       "A10ZFE6YE0UHW8  ...         0.0         0.0         0.0         0.0   \n",
       "\n",
       "productId       B00L8I6SFY  B00LA6T0LS  B00LBZ1Z7K  B00LGQ6HL8  B00LI4ZZO8  \\\n",
       "userId                                                                       \n",
       "A100UD67AHFODS         0.0         0.0         0.0         0.0         0.0   \n",
       "A100WO06OQR8BQ         0.0         0.0         0.0         0.0         0.0   \n",
       "A10PEXB6XAQ5XF         0.0         0.0         0.0         0.0         0.0   \n",
       "A10Y058K7B96C6         0.0         0.0         0.0         0.0         0.0   \n",
       "A10ZFE6YE0UHW8         0.0         0.0         0.0         0.0         0.0   \n",
       "\n",
       "productId       B00LKG1MC8  \n",
       "userId                      \n",
       "A100UD67AHFODS         0.0  \n",
       "A100WO06OQR8BQ         0.0  \n",
       "A10PEXB6XAQ5XF         0.0  \n",
       "A10Y058K7B96C6         0.0  \n",
       "A10ZFE6YE0UHW8         0.0  \n",
       "\n",
       "[5 rows x 22635 columns]"
      ]
     },
     "execution_count": 149,
     "metadata": {},
     "output_type": "execute_result"
    }
   ],
   "source": [
    "final_ratings_matrix.head()"
   ]
  },
  {
   "cell_type": "code",
   "execution_count": 151,
   "metadata": {},
   "outputs": [
    {
     "name": "stdout",
     "output_type": "stream",
     "text": [
      "Shape of final_ratings_matrix:  (289, 22635)\n",
      "given_num_of_ratings =  44209\n",
      "possible_num_of_ratings =  6541515\n",
      "density: 0.68%\n"
     ]
    }
   ],
   "source": [
    "#Calculate the density of the rating matrix\n",
    "\n",
    "print('Shape of final_ratings_matrix: ', final_ratings_matrix.shape)\n",
    "\n",
    "given_num_of_ratings = np.count_nonzero(final_ratings_matrix)\n",
    "print('given_num_of_ratings = ', given_num_of_ratings)\n",
    "\n",
    "possible_num_of_ratings = final_ratings_matrix.shape[0] * final_ratings_matrix.shape[1]\n",
    "print('possible_num_of_ratings = ', possible_num_of_ratings)\n",
    "\n",
    "density = (given_num_of_ratings/possible_num_of_ratings)\n",
    "\n",
    "density *= 100\n",
    "print ('density: {:4.2f}%'.format(density))"
   ]
  },
  {
   "cell_type": "code",
   "execution_count": 74,
   "metadata": {},
   "outputs": [
    {
     "data": {
      "text/html": [
       "<div>\n",
       "<style scoped>\n",
       "    .dataframe tbody tr th:only-of-type {\n",
       "        vertical-align: middle;\n",
       "    }\n",
       "\n",
       "    .dataframe tbody tr th {\n",
       "        vertical-align: top;\n",
       "    }\n",
       "\n",
       "    .dataframe thead th {\n",
       "        text-align: right;\n",
       "    }\n",
       "</style>\n",
       "<table border=\"1\" class=\"dataframe\">\n",
       "  <thead>\n",
       "    <tr style=\"text-align: right;\">\n",
       "      <th>userId</th>\n",
       "      <th>A100UD67AHFODS</th>\n",
       "      <th>A100WO06OQR8BQ</th>\n",
       "      <th>A10PEXB6XAQ5XF</th>\n",
       "      <th>A10Y058K7B96C6</th>\n",
       "      <th>A10ZFE6YE0UHW8</th>\n",
       "      <th>A11D1KHM7DVOQK</th>\n",
       "      <th>A11I1I9QLMAM1A</th>\n",
       "      <th>A11KZ906QD08C5</th>\n",
       "      <th>A12DQZKRKTNF5E</th>\n",
       "      <th>A1435P5AMCPB3X</th>\n",
       "      <th>...</th>\n",
       "      <th>AVPNQUVZWMDSX</th>\n",
       "      <th>AWNJAY0M5UI70</th>\n",
       "      <th>AWPODHOB4GFWL</th>\n",
       "      <th>AX05DBU8IRUWY</th>\n",
       "      <th>AX7317G153T8W</th>\n",
       "      <th>AY6A8KPYCE6B0</th>\n",
       "      <th>AYB4ELCS5AM8P</th>\n",
       "      <th>AZ515FFZ7I2P7</th>\n",
       "      <th>AZAC8O310IK4E</th>\n",
       "      <th>AZMY6E8B52L2T</th>\n",
       "    </tr>\n",
       "    <tr>\n",
       "      <th>productId</th>\n",
       "      <th></th>\n",
       "      <th></th>\n",
       "      <th></th>\n",
       "      <th></th>\n",
       "      <th></th>\n",
       "      <th></th>\n",
       "      <th></th>\n",
       "      <th></th>\n",
       "      <th></th>\n",
       "      <th></th>\n",
       "      <th></th>\n",
       "      <th></th>\n",
       "      <th></th>\n",
       "      <th></th>\n",
       "      <th></th>\n",
       "      <th></th>\n",
       "      <th></th>\n",
       "      <th></th>\n",
       "      <th></th>\n",
       "      <th></th>\n",
       "      <th></th>\n",
       "    </tr>\n",
       "  </thead>\n",
       "  <tbody>\n",
       "    <tr>\n",
       "      <th>0594481813</th>\n",
       "      <td>0.0</td>\n",
       "      <td>0.0</td>\n",
       "      <td>0.0</td>\n",
       "      <td>0.0</td>\n",
       "      <td>0.0</td>\n",
       "      <td>0.0</td>\n",
       "      <td>0.0</td>\n",
       "      <td>0.0</td>\n",
       "      <td>0.0</td>\n",
       "      <td>0.0</td>\n",
       "      <td>...</td>\n",
       "      <td>0.0</td>\n",
       "      <td>0.0</td>\n",
       "      <td>0.0</td>\n",
       "      <td>0.0</td>\n",
       "      <td>0.0</td>\n",
       "      <td>0.0</td>\n",
       "      <td>0.0</td>\n",
       "      <td>0.0</td>\n",
       "      <td>0.0</td>\n",
       "      <td>0.0</td>\n",
       "    </tr>\n",
       "    <tr>\n",
       "      <th>0970407998</th>\n",
       "      <td>0.0</td>\n",
       "      <td>0.0</td>\n",
       "      <td>0.0</td>\n",
       "      <td>0.0</td>\n",
       "      <td>0.0</td>\n",
       "      <td>0.0</td>\n",
       "      <td>0.0</td>\n",
       "      <td>0.0</td>\n",
       "      <td>0.0</td>\n",
       "      <td>0.0</td>\n",
       "      <td>...</td>\n",
       "      <td>0.0</td>\n",
       "      <td>0.0</td>\n",
       "      <td>0.0</td>\n",
       "      <td>0.0</td>\n",
       "      <td>0.0</td>\n",
       "      <td>0.0</td>\n",
       "      <td>0.0</td>\n",
       "      <td>0.0</td>\n",
       "      <td>0.0</td>\n",
       "      <td>0.0</td>\n",
       "    </tr>\n",
       "    <tr>\n",
       "      <th>0972683275</th>\n",
       "      <td>0.0</td>\n",
       "      <td>0.0</td>\n",
       "      <td>0.0</td>\n",
       "      <td>0.0</td>\n",
       "      <td>0.0</td>\n",
       "      <td>0.0</td>\n",
       "      <td>0.0</td>\n",
       "      <td>0.0</td>\n",
       "      <td>0.0</td>\n",
       "      <td>0.0</td>\n",
       "      <td>...</td>\n",
       "      <td>0.0</td>\n",
       "      <td>0.0</td>\n",
       "      <td>0.0</td>\n",
       "      <td>0.0</td>\n",
       "      <td>0.0</td>\n",
       "      <td>0.0</td>\n",
       "      <td>0.0</td>\n",
       "      <td>0.0</td>\n",
       "      <td>0.0</td>\n",
       "      <td>0.0</td>\n",
       "    </tr>\n",
       "    <tr>\n",
       "      <th>1400501776</th>\n",
       "      <td>0.0</td>\n",
       "      <td>0.0</td>\n",
       "      <td>0.0</td>\n",
       "      <td>0.0</td>\n",
       "      <td>0.0</td>\n",
       "      <td>0.0</td>\n",
       "      <td>0.0</td>\n",
       "      <td>0.0</td>\n",
       "      <td>0.0</td>\n",
       "      <td>0.0</td>\n",
       "      <td>...</td>\n",
       "      <td>0.0</td>\n",
       "      <td>0.0</td>\n",
       "      <td>0.0</td>\n",
       "      <td>0.0</td>\n",
       "      <td>0.0</td>\n",
       "      <td>0.0</td>\n",
       "      <td>0.0</td>\n",
       "      <td>0.0</td>\n",
       "      <td>0.0</td>\n",
       "      <td>0.0</td>\n",
       "    </tr>\n",
       "    <tr>\n",
       "      <th>1400532655</th>\n",
       "      <td>0.0</td>\n",
       "      <td>0.0</td>\n",
       "      <td>0.0</td>\n",
       "      <td>0.0</td>\n",
       "      <td>0.0</td>\n",
       "      <td>0.0</td>\n",
       "      <td>0.0</td>\n",
       "      <td>0.0</td>\n",
       "      <td>0.0</td>\n",
       "      <td>0.0</td>\n",
       "      <td>...</td>\n",
       "      <td>0.0</td>\n",
       "      <td>0.0</td>\n",
       "      <td>0.0</td>\n",
       "      <td>0.0</td>\n",
       "      <td>0.0</td>\n",
       "      <td>0.0</td>\n",
       "      <td>0.0</td>\n",
       "      <td>0.0</td>\n",
       "      <td>0.0</td>\n",
       "      <td>0.0</td>\n",
       "    </tr>\n",
       "  </tbody>\n",
       "</table>\n",
       "<p>5 rows × 289 columns</p>\n",
       "</div>"
      ],
      "text/plain": [
       "userId      A100UD67AHFODS  A100WO06OQR8BQ  A10PEXB6XAQ5XF  A10Y058K7B96C6  \\\n",
       "productId                                                                    \n",
       "0594481813             0.0             0.0             0.0             0.0   \n",
       "0970407998             0.0             0.0             0.0             0.0   \n",
       "0972683275             0.0             0.0             0.0             0.0   \n",
       "1400501776             0.0             0.0             0.0             0.0   \n",
       "1400532655             0.0             0.0             0.0             0.0   \n",
       "\n",
       "userId      A10ZFE6YE0UHW8  A11D1KHM7DVOQK  A11I1I9QLMAM1A  A11KZ906QD08C5  \\\n",
       "productId                                                                    \n",
       "0594481813             0.0             0.0             0.0             0.0   \n",
       "0970407998             0.0             0.0             0.0             0.0   \n",
       "0972683275             0.0             0.0             0.0             0.0   \n",
       "1400501776             0.0             0.0             0.0             0.0   \n",
       "1400532655             0.0             0.0             0.0             0.0   \n",
       "\n",
       "userId      A12DQZKRKTNF5E  A1435P5AMCPB3X  ...  AVPNQUVZWMDSX  AWNJAY0M5UI70  \\\n",
       "productId                                   ...                                 \n",
       "0594481813             0.0             0.0  ...            0.0            0.0   \n",
       "0970407998             0.0             0.0  ...            0.0            0.0   \n",
       "0972683275             0.0             0.0  ...            0.0            0.0   \n",
       "1400501776             0.0             0.0  ...            0.0            0.0   \n",
       "1400532655             0.0             0.0  ...            0.0            0.0   \n",
       "\n",
       "userId      AWPODHOB4GFWL  AX05DBU8IRUWY  AX7317G153T8W  AY6A8KPYCE6B0  \\\n",
       "productId                                                                \n",
       "0594481813            0.0            0.0            0.0            0.0   \n",
       "0970407998            0.0            0.0            0.0            0.0   \n",
       "0972683275            0.0            0.0            0.0            0.0   \n",
       "1400501776            0.0            0.0            0.0            0.0   \n",
       "1400532655            0.0            0.0            0.0            0.0   \n",
       "\n",
       "userId      AYB4ELCS5AM8P  AZ515FFZ7I2P7  AZAC8O310IK4E  AZMY6E8B52L2T  \n",
       "productId                                                               \n",
       "0594481813            0.0            0.0            0.0            0.0  \n",
       "0970407998            0.0            0.0            0.0            0.0  \n",
       "0972683275            0.0            0.0            0.0            0.0  \n",
       "1400501776            0.0            0.0            0.0            0.0  \n",
       "1400532655            0.0            0.0            0.0            0.0  \n",
       "\n",
       "[5 rows x 289 columns]"
      ]
     },
     "execution_count": 74,
     "metadata": {},
     "output_type": "execute_result"
    }
   ],
   "source": [
    "# product ratings per product ID\n",
    "\n",
    "final_ratings_matrix_T = final_ratings_matrix.transpose()\n",
    "final_ratings_matrix_T.head()"
   ]
  },
  {
   "cell_type": "markdown",
   "metadata": {},
   "source": [
    "<span style='background:yellow'> <span style='font-family:Georgia'>  ## Impoorts necessary packages (Surprise packages)  </span> "
   ]
  },
  {
   "cell_type": "code",
   "execution_count": 113,
   "metadata": {},
   "outputs": [],
   "source": [
    "from surprise import KNNWithMeans\n",
    "from surprise import Dataset\n",
    "from surprise import accuracy\n",
    "from surprise import Reader\n",
    "import os\n",
    "from surprise.model_selection import train_test_split\n",
    "from collections import defaultdict\n",
    "import pandas as pd\n",
    "import matplotlib.pyplot as plt\n",
    "%matplotlib inline\n",
    "from surprise.model_selection import cross_validate\n",
    "from surprise.model_selection import GridSearchCV\n",
    "from surprise import KNNBasic, KNNWithMeans, KNNWithZScore\n",
    "from surprise import SVD, SVDpp, NMF\n",
    "from surprise import SlopeOne, CoClustering, NormalPredictor, KNNBaseline, BaselineOnly, CoClustering\n"
   ]
  },
  {
   "cell_type": "code",
   "execution_count": 154,
   "metadata": {},
   "outputs": [],
   "source": [
    "reader = Reader(rating_scale=(1, 5))\n",
    "data = Dataset.load_from_df(new_df[['userId','productId','rating']], reader)"
   ]
  },
  {
   "cell_type": "markdown",
   "metadata": {},
   "source": [
    "<span style='background:yellow'> <span style='font-family:Georgia'>  ## Split Test and Train  </span> "
   ]
  },
  {
   "cell_type": "code",
   "execution_count": 153,
   "metadata": {},
   "outputs": [],
   "source": [
    "#Split test and train\n",
    "trainset, testset = train_test_split(data, test_size=0.25)"
   ]
  },
  {
   "cell_type": "markdown",
   "metadata": {},
   "source": [
    "<span style='background:yellow'> <span style='font-family:Georgia'>  ## Evaluate the benchmark </span> "
   ]
  },
  {
   "cell_type": "code",
   "execution_count": 114,
   "metadata": {},
   "outputs": [
    {
     "name": "stdout",
     "output_type": "stream",
     "text": [
      "Estimating biases using als...\n",
      "Computing the msd similarity matrix...\n",
      "Done computing similarity matrix.\n",
      "Estimating biases using als...\n",
      "Computing the msd similarity matrix...\n",
      "Done computing similarity matrix.\n",
      "Estimating biases using als...\n",
      "Computing the msd similarity matrix...\n",
      "Done computing similarity matrix.\n",
      "Computing the msd similarity matrix...\n",
      "Done computing similarity matrix.\n",
      "Computing the msd similarity matrix...\n",
      "Done computing similarity matrix.\n",
      "Computing the msd similarity matrix...\n",
      "Done computing similarity matrix.\n",
      "Computing the msd similarity matrix...\n",
      "Done computing similarity matrix.\n",
      "Computing the msd similarity matrix...\n",
      "Done computing similarity matrix.\n",
      "Computing the msd similarity matrix...\n",
      "Done computing similarity matrix.\n",
      "Computing the msd similarity matrix...\n",
      "Done computing similarity matrix.\n",
      "Computing the msd similarity matrix...\n",
      "Done computing similarity matrix.\n",
      "Computing the msd similarity matrix...\n",
      "Done computing similarity matrix.\n",
      "Estimating biases using als...\n",
      "Estimating biases using als...\n",
      "Estimating biases using als...\n"
     ]
    },
    {
     "data": {
      "text/html": [
       "<div>\n",
       "<style scoped>\n",
       "    .dataframe tbody tr th:only-of-type {\n",
       "        vertical-align: middle;\n",
       "    }\n",
       "\n",
       "    .dataframe tbody tr th {\n",
       "        vertical-align: top;\n",
       "    }\n",
       "\n",
       "    .dataframe thead th {\n",
       "        text-align: right;\n",
       "    }\n",
       "</style>\n",
       "<table border=\"1\" class=\"dataframe\">\n",
       "  <thead>\n",
       "    <tr style=\"text-align: right;\">\n",
       "      <th></th>\n",
       "      <th>test_rmse</th>\n",
       "      <th>fit_time</th>\n",
       "      <th>test_time</th>\n",
       "    </tr>\n",
       "    <tr>\n",
       "      <th>Algorithm</th>\n",
       "      <th></th>\n",
       "      <th></th>\n",
       "      <th></th>\n",
       "    </tr>\n",
       "  </thead>\n",
       "  <tbody>\n",
       "    <tr>\n",
       "      <th>BaselineOnly</th>\n",
       "      <td>0.948571</td>\n",
       "      <td>0.094591</td>\n",
       "      <td>0.076966</td>\n",
       "    </tr>\n",
       "    <tr>\n",
       "      <th>SVD</th>\n",
       "      <td>0.954269</td>\n",
       "      <td>2.103881</td>\n",
       "      <td>0.141913</td>\n",
       "    </tr>\n",
       "    <tr>\n",
       "      <th>SVDpp</th>\n",
       "      <td>0.954728</td>\n",
       "      <td>56.352387</td>\n",
       "      <td>1.197987</td>\n",
       "    </tr>\n",
       "    <tr>\n",
       "      <th>KNNBaseline</th>\n",
       "      <td>1.001305</td>\n",
       "      <td>0.097941</td>\n",
       "      <td>0.207534</td>\n",
       "    </tr>\n",
       "    <tr>\n",
       "      <th>KNNWithMeans</th>\n",
       "      <td>1.033088</td>\n",
       "      <td>0.026797</td>\n",
       "      <td>0.209868</td>\n",
       "    </tr>\n",
       "    <tr>\n",
       "      <th>KNNWithZScore</th>\n",
       "      <td>1.036527</td>\n",
       "      <td>0.054796</td>\n",
       "      <td>0.186885</td>\n",
       "    </tr>\n",
       "    <tr>\n",
       "      <th>CoClustering</th>\n",
       "      <td>1.050799</td>\n",
       "      <td>2.372979</td>\n",
       "      <td>0.125257</td>\n",
       "    </tr>\n",
       "    <tr>\n",
       "      <th>SlopeOne</th>\n",
       "      <td>1.058285</td>\n",
       "      <td>7.712250</td>\n",
       "      <td>0.687934</td>\n",
       "    </tr>\n",
       "    <tr>\n",
       "      <th>KNNBasic</th>\n",
       "      <td>1.068541</td>\n",
       "      <td>0.013662</td>\n",
       "      <td>0.208539</td>\n",
       "    </tr>\n",
       "    <tr>\n",
       "      <th>NMF</th>\n",
       "      <td>1.108441</td>\n",
       "      <td>3.553571</td>\n",
       "      <td>0.132597</td>\n",
       "    </tr>\n",
       "    <tr>\n",
       "      <th>NormalPredictor</th>\n",
       "      <td>1.313967</td>\n",
       "      <td>0.048635</td>\n",
       "      <td>0.137914</td>\n",
       "    </tr>\n",
       "  </tbody>\n",
       "</table>\n",
       "</div>"
      ],
      "text/plain": [
       "                 test_rmse   fit_time  test_time\n",
       "Algorithm                                       \n",
       "BaselineOnly      0.948571   0.094591   0.076966\n",
       "SVD               0.954269   2.103881   0.141913\n",
       "SVDpp             0.954728  56.352387   1.197987\n",
       "KNNBaseline       1.001305   0.097941   0.207534\n",
       "KNNWithMeans      1.033088   0.026797   0.209868\n",
       "KNNWithZScore     1.036527   0.054796   0.186885\n",
       "CoClustering      1.050799   2.372979   0.125257\n",
       "SlopeOne          1.058285   7.712250   0.687934\n",
       "KNNBasic          1.068541   0.013662   0.208539\n",
       "NMF               1.108441   3.553571   0.132597\n",
       "NormalPredictor   1.313967   0.048635   0.137914"
      ]
     },
     "execution_count": 114,
     "metadata": {},
     "output_type": "execute_result"
    }
   ],
   "source": [
    "benchmark = []\n",
    "# Iterate over all algorithms\n",
    "for algorithm in [SVD(), SVDpp(), SlopeOne(), NMF(), NormalPredictor(), KNNBaseline(), KNNBasic(), KNNWithMeans(), KNNWithZScore(), BaselineOnly(), CoClustering()]:\n",
    "    # Perform cross validation (Feed algorithm above, data above. We will use RMSE for measurement)\n",
    "    results = cross_validate(algorithm, data, measures=['RMSE'], cv=3, verbose=False)\n",
    "    \n",
    "    # Get results & append algorithm name\n",
    "    tmp = pd.DataFrame.from_dict(results).mean(axis=0)\n",
    "    tmp = tmp.append(pd.Series([str(algorithm).split(' ')[0].split('.')[-1]], index=['Algorithm']))\n",
    "    benchmark.append(tmp)\n",
    "    \n",
    "pd.DataFrame(benchmark).set_index('Algorithm').sort_values('test_rmse')    "
   ]
  },
  {
   "cell_type": "markdown",
   "metadata": {},
   "source": [
    "<span style='background:yellow'> <span style='font-family:Georgia'> ## BaselineOnly algorithm gave us the best rmse, therefore, we will train and predict with BaselineOnly and use Alternating Least Squares (ALS).<br><br> (For the bsl_options : there are SFD and ALS (SGD: Stochastic Gradient Descent, ALS:Alternating Least Squares).\n",
    "<br>\n",
    "<br>#'reg_i': The regularization parameter for items. \n",
    "<br>#'reg_u': The regularization parameter for users. \n",
    "<br>#'n_epochs': The number of iteration of the ALS procedure. Default is 10.what is described is a single iteration ALS process.</span>"
   ]
  },
  {
   "cell_type": "code",
   "execution_count": 117,
   "metadata": {},
   "outputs": [
    {
     "name": "stdout",
     "output_type": "stream",
     "text": [
      "Using ALS\n",
      "Estimating biases using als...\n",
      "Estimating biases using als...\n",
      "Estimating biases using als...\n"
     ]
    },
    {
     "data": {
      "text/plain": [
       "{'test_rmse': array([0.94674275, 0.93776869, 0.95159128]),\n",
       " 'fit_time': (0.05896711349487305, 0.06540226936340332, 0.0599668025970459),\n",
       " 'test_time': (0.09394574165344238, 0.1449136734008789, 0.06895756721496582)}"
      ]
     },
     "execution_count": 117,
     "metadata": {},
     "output_type": "execute_result"
    }
   ],
   "source": [
    "print('Using ALS')\n",
    "\n",
    "bsl_options = {'method': 'als',\n",
    "               'n_epochs': 5,\n",
    "               'reg_u': 12,\n",
    "               'reg_i': 5\n",
    "               }\n",
    "algo = BaselineOnly(bsl_options=bsl_options)\n",
    "cross_validate(algo, data, measures=['RMSE'], cv=3, verbose=False)"
   ]
  },
  {
   "cell_type": "code",
   "execution_count": 156,
   "metadata": {},
   "outputs": [
    {
     "name": "stdout",
     "output_type": "stream",
     "text": [
      "Estimating biases using als...\n",
      "RMSE: 0.9484\n"
     ]
    },
    {
     "data": {
      "text/plain": [
       "0.9484248592878833"
      ]
     },
     "execution_count": 156,
     "metadata": {},
     "output_type": "execute_result"
    }
   ],
   "source": [
    "algo = BaselineOnly(bsl_options=bsl_options)\n",
    "predictions = algo.fit(trainset).test(testset)\n",
    "accuracy.rmse(predictions)"
   ]
  },
  {
   "cell_type": "code",
   "execution_count": 119,
   "metadata": {},
   "outputs": [],
   "source": [
    "def get_Iu(uid):\n",
    "    \"\"\" return the number of items rated by given user\n",
    "    args: \n",
    "      uid: the id of the user\n",
    "    returns: \n",
    "      the number of items rated by the user\n",
    "    \"\"\"\n",
    "    try:\n",
    "        return len(trainset.ur[trainset.to_inner_uid(uid)])\n",
    "    except ValueError: # user was not part of the trainset\n",
    "        return 0\n",
    "    \n",
    "def get_Ui(iid):\n",
    "    \"\"\" return number of users that have rated given item\n",
    "    args:\n",
    "      iid: the raw id of the item\n",
    "    returns:\n",
    "      the number of users that have rated the item.\n",
    "    \"\"\"\n",
    "    try: \n",
    "        return len(trainset.ir[trainset.to_inner_iid(iid)])\n",
    "    except ValueError:\n",
    "        return 0\n",
    "    \n",
    "df = pd.DataFrame(predictions, columns=['uid', 'iid', 'rui', 'est', 'details'])\n",
    "df['Iu'] = df.uid.apply(get_Iu)\n",
    "df['Ui'] = df.iid.apply(get_Ui)\n",
    "df['err'] = abs(df.est - df.rui)\n",
    "best_predictions = df.sort_values(by='err')[:10]\n",
    "worst_predictions = df.sort_values(by='err')[-10:]"
   ]
  },
  {
   "cell_type": "code",
   "execution_count": 120,
   "metadata": {},
   "outputs": [
    {
     "data": {
      "text/html": [
       "<div>\n",
       "<style scoped>\n",
       "    .dataframe tbody tr th:only-of-type {\n",
       "        vertical-align: middle;\n",
       "    }\n",
       "\n",
       "    .dataframe tbody tr th {\n",
       "        vertical-align: top;\n",
       "    }\n",
       "\n",
       "    .dataframe thead th {\n",
       "        text-align: right;\n",
       "    }\n",
       "</style>\n",
       "<table border=\"1\" class=\"dataframe\">\n",
       "  <thead>\n",
       "    <tr style=\"text-align: right;\">\n",
       "      <th></th>\n",
       "      <th>uid</th>\n",
       "      <th>iid</th>\n",
       "      <th>rui</th>\n",
       "      <th>est</th>\n",
       "      <th>details</th>\n",
       "      <th>Iu</th>\n",
       "      <th>Ui</th>\n",
       "      <th>err</th>\n",
       "    </tr>\n",
       "  </thead>\n",
       "  <tbody>\n",
       "    <tr>\n",
       "      <th>8538</th>\n",
       "      <td>ACJT8MUC0LRF0</td>\n",
       "      <td>B004KMC0SO</td>\n",
       "      <td>5.0</td>\n",
       "      <td>5.0</td>\n",
       "      <td>{'was_impossible': False}</td>\n",
       "      <td>99</td>\n",
       "      <td>3</td>\n",
       "      <td>0.0</td>\n",
       "    </tr>\n",
       "    <tr>\n",
       "      <th>2110</th>\n",
       "      <td>A1CMD08Z49PGKQ</td>\n",
       "      <td>B0082E9K7U</td>\n",
       "      <td>5.0</td>\n",
       "      <td>5.0</td>\n",
       "      <td>{'was_impossible': False}</td>\n",
       "      <td>174</td>\n",
       "      <td>19</td>\n",
       "      <td>0.0</td>\n",
       "    </tr>\n",
       "    <tr>\n",
       "      <th>2151</th>\n",
       "      <td>AZMY6E8B52L2T</td>\n",
       "      <td>B001TH7GUU</td>\n",
       "      <td>5.0</td>\n",
       "      <td>5.0</td>\n",
       "      <td>{'was_impossible': False}</td>\n",
       "      <td>137</td>\n",
       "      <td>17</td>\n",
       "      <td>0.0</td>\n",
       "    </tr>\n",
       "    <tr>\n",
       "      <th>8518</th>\n",
       "      <td>A2HRHF83I3NDGT</td>\n",
       "      <td>B001TH7GVE</td>\n",
       "      <td>5.0</td>\n",
       "      <td>5.0</td>\n",
       "      <td>{'was_impossible': False}</td>\n",
       "      <td>95</td>\n",
       "      <td>13</td>\n",
       "      <td>0.0</td>\n",
       "    </tr>\n",
       "    <tr>\n",
       "      <th>8502</th>\n",
       "      <td>A1E1LEVQ9VQNK</td>\n",
       "      <td>B000HZGQ9C</td>\n",
       "      <td>5.0</td>\n",
       "      <td>5.0</td>\n",
       "      <td>{'was_impossible': False}</td>\n",
       "      <td>159</td>\n",
       "      <td>2</td>\n",
       "      <td>0.0</td>\n",
       "    </tr>\n",
       "    <tr>\n",
       "      <th>4555</th>\n",
       "      <td>ACJT8MUC0LRF0</td>\n",
       "      <td>B00ISFNSBW</td>\n",
       "      <td>5.0</td>\n",
       "      <td>5.0</td>\n",
       "      <td>{'was_impossible': False}</td>\n",
       "      <td>99</td>\n",
       "      <td>8</td>\n",
       "      <td>0.0</td>\n",
       "    </tr>\n",
       "    <tr>\n",
       "      <th>4092</th>\n",
       "      <td>A14JBDSWKPKTZA</td>\n",
       "      <td>B000N99BBC</td>\n",
       "      <td>5.0</td>\n",
       "      <td>5.0</td>\n",
       "      <td>{'was_impossible': False}</td>\n",
       "      <td>69</td>\n",
       "      <td>35</td>\n",
       "      <td>0.0</td>\n",
       "    </tr>\n",
       "    <tr>\n",
       "      <th>7645</th>\n",
       "      <td>A25HBO5V8S8SEA</td>\n",
       "      <td>B00006HCHH</td>\n",
       "      <td>5.0</td>\n",
       "      <td>5.0</td>\n",
       "      <td>{'was_impossible': False}</td>\n",
       "      <td>123</td>\n",
       "      <td>1</td>\n",
       "      <td>0.0</td>\n",
       "    </tr>\n",
       "    <tr>\n",
       "      <th>2249</th>\n",
       "      <td>A1E1LEVQ9VQNK</td>\n",
       "      <td>B000BQ7GW8</td>\n",
       "      <td>5.0</td>\n",
       "      <td>5.0</td>\n",
       "      <td>{'was_impossible': False}</td>\n",
       "      <td>159</td>\n",
       "      <td>12</td>\n",
       "      <td>0.0</td>\n",
       "    </tr>\n",
       "    <tr>\n",
       "      <th>8447</th>\n",
       "      <td>A3S3R88HA0HZG3</td>\n",
       "      <td>B005FDXZJU</td>\n",
       "      <td>5.0</td>\n",
       "      <td>5.0</td>\n",
       "      <td>{'was_impossible': False}</td>\n",
       "      <td>111</td>\n",
       "      <td>13</td>\n",
       "      <td>0.0</td>\n",
       "    </tr>\n",
       "  </tbody>\n",
       "</table>\n",
       "</div>"
      ],
      "text/plain": [
       "                 uid         iid  rui  est                    details   Iu  \\\n",
       "8538   ACJT8MUC0LRF0  B004KMC0SO  5.0  5.0  {'was_impossible': False}   99   \n",
       "2110  A1CMD08Z49PGKQ  B0082E9K7U  5.0  5.0  {'was_impossible': False}  174   \n",
       "2151   AZMY6E8B52L2T  B001TH7GUU  5.0  5.0  {'was_impossible': False}  137   \n",
       "8518  A2HRHF83I3NDGT  B001TH7GVE  5.0  5.0  {'was_impossible': False}   95   \n",
       "8502   A1E1LEVQ9VQNK  B000HZGQ9C  5.0  5.0  {'was_impossible': False}  159   \n",
       "4555   ACJT8MUC0LRF0  B00ISFNSBW  5.0  5.0  {'was_impossible': False}   99   \n",
       "4092  A14JBDSWKPKTZA  B000N99BBC  5.0  5.0  {'was_impossible': False}   69   \n",
       "7645  A25HBO5V8S8SEA  B00006HCHH  5.0  5.0  {'was_impossible': False}  123   \n",
       "2249   A1E1LEVQ9VQNK  B000BQ7GW8  5.0  5.0  {'was_impossible': False}  159   \n",
       "8447  A3S3R88HA0HZG3  B005FDXZJU  5.0  5.0  {'was_impossible': False}  111   \n",
       "\n",
       "      Ui  err  \n",
       "8538   3  0.0  \n",
       "2110  19  0.0  \n",
       "2151  17  0.0  \n",
       "8518  13  0.0  \n",
       "8502   2  0.0  \n",
       "4555   8  0.0  \n",
       "4092  35  0.0  \n",
       "7645   1  0.0  \n",
       "2249  12  0.0  \n",
       "8447  13  0.0  "
      ]
     },
     "execution_count": 120,
     "metadata": {},
     "output_type": "execute_result"
    }
   ],
   "source": [
    "best_predictions"
   ]
  },
  {
   "cell_type": "code",
   "execution_count": 121,
   "metadata": {},
   "outputs": [
    {
     "data": {
      "text/html": [
       "<div>\n",
       "<style scoped>\n",
       "    .dataframe tbody tr th:only-of-type {\n",
       "        vertical-align: middle;\n",
       "    }\n",
       "\n",
       "    .dataframe tbody tr th {\n",
       "        vertical-align: top;\n",
       "    }\n",
       "\n",
       "    .dataframe thead th {\n",
       "        text-align: right;\n",
       "    }\n",
       "</style>\n",
       "<table border=\"1\" class=\"dataframe\">\n",
       "  <thead>\n",
       "    <tr style=\"text-align: right;\">\n",
       "      <th></th>\n",
       "      <th>uid</th>\n",
       "      <th>iid</th>\n",
       "      <th>rui</th>\n",
       "      <th>est</th>\n",
       "      <th>details</th>\n",
       "      <th>Iu</th>\n",
       "      <th>Ui</th>\n",
       "      <th>err</th>\n",
       "    </tr>\n",
       "  </thead>\n",
       "  <tbody>\n",
       "    <tr>\n",
       "      <th>9710</th>\n",
       "      <td>A1V4VVBQBFXRHC</td>\n",
       "      <td>B0000AE6G9</td>\n",
       "      <td>1.0</td>\n",
       "      <td>4.695027</td>\n",
       "      <td>{'was_impossible': False}</td>\n",
       "      <td>99</td>\n",
       "      <td>1</td>\n",
       "      <td>3.695027</td>\n",
       "    </tr>\n",
       "    <tr>\n",
       "      <th>2266</th>\n",
       "      <td>A2SKEQT0WTB954</td>\n",
       "      <td>B00005ABC5</td>\n",
       "      <td>1.0</td>\n",
       "      <td>4.695919</td>\n",
       "      <td>{'was_impossible': False}</td>\n",
       "      <td>93</td>\n",
       "      <td>2</td>\n",
       "      <td>3.695919</td>\n",
       "    </tr>\n",
       "    <tr>\n",
       "      <th>1690</th>\n",
       "      <td>A3EZFFPVS34AMO</td>\n",
       "      <td>B00026WRFI</td>\n",
       "      <td>1.0</td>\n",
       "      <td>4.698534</td>\n",
       "      <td>{'was_impossible': False}</td>\n",
       "      <td>94</td>\n",
       "      <td>2</td>\n",
       "      <td>3.698534</td>\n",
       "    </tr>\n",
       "    <tr>\n",
       "      <th>7675</th>\n",
       "      <td>A7QMQBGJ2TCQG</td>\n",
       "      <td>B001D7REIK</td>\n",
       "      <td>1.0</td>\n",
       "      <td>4.705931</td>\n",
       "      <td>{'was_impossible': False}</td>\n",
       "      <td>93</td>\n",
       "      <td>4</td>\n",
       "      <td>3.705931</td>\n",
       "    </tr>\n",
       "    <tr>\n",
       "      <th>10601</th>\n",
       "      <td>AYB4ELCS5AM8P</td>\n",
       "      <td>B00068NUM6</td>\n",
       "      <td>1.0</td>\n",
       "      <td>4.727144</td>\n",
       "      <td>{'was_impossible': False}</td>\n",
       "      <td>125</td>\n",
       "      <td>0</td>\n",
       "      <td>3.727144</td>\n",
       "    </tr>\n",
       "    <tr>\n",
       "      <th>4842</th>\n",
       "      <td>A2HRHF83I3NDGT</td>\n",
       "      <td>B002HGFKR8</td>\n",
       "      <td>1.0</td>\n",
       "      <td>4.732056</td>\n",
       "      <td>{'was_impossible': False}</td>\n",
       "      <td>95</td>\n",
       "      <td>1</td>\n",
       "      <td>3.732056</td>\n",
       "    </tr>\n",
       "    <tr>\n",
       "      <th>6046</th>\n",
       "      <td>A2D1LPEUCTNT8X</td>\n",
       "      <td>B0001FV36E</td>\n",
       "      <td>1.0</td>\n",
       "      <td>4.737769</td>\n",
       "      <td>{'was_impossible': False}</td>\n",
       "      <td>92</td>\n",
       "      <td>3</td>\n",
       "      <td>3.737769</td>\n",
       "    </tr>\n",
       "    <tr>\n",
       "      <th>8563</th>\n",
       "      <td>A2B7BUH8834Y6M</td>\n",
       "      <td>B001G5ZTLS</td>\n",
       "      <td>1.0</td>\n",
       "      <td>4.758279</td>\n",
       "      <td>{'was_impossible': False}</td>\n",
       "      <td>137</td>\n",
       "      <td>7</td>\n",
       "      <td>3.758279</td>\n",
       "    </tr>\n",
       "    <tr>\n",
       "      <th>10378</th>\n",
       "      <td>AZMY6E8B52L2T</td>\n",
       "      <td>B004R7P28W</td>\n",
       "      <td>1.0</td>\n",
       "      <td>4.950395</td>\n",
       "      <td>{'was_impossible': False}</td>\n",
       "      <td>137</td>\n",
       "      <td>5</td>\n",
       "      <td>3.950395</td>\n",
       "    </tr>\n",
       "    <tr>\n",
       "      <th>6402</th>\n",
       "      <td>A5KMMY627T3W</td>\n",
       "      <td>B002QEBMAK</td>\n",
       "      <td>1.0</td>\n",
       "      <td>4.999945</td>\n",
       "      <td>{'was_impossible': False}</td>\n",
       "      <td>105</td>\n",
       "      <td>17</td>\n",
       "      <td>3.999945</td>\n",
       "    </tr>\n",
       "  </tbody>\n",
       "</table>\n",
       "</div>"
      ],
      "text/plain": [
       "                  uid         iid  rui       est                    details  \\\n",
       "9710   A1V4VVBQBFXRHC  B0000AE6G9  1.0  4.695027  {'was_impossible': False}   \n",
       "2266   A2SKEQT0WTB954  B00005ABC5  1.0  4.695919  {'was_impossible': False}   \n",
       "1690   A3EZFFPVS34AMO  B00026WRFI  1.0  4.698534  {'was_impossible': False}   \n",
       "7675    A7QMQBGJ2TCQG  B001D7REIK  1.0  4.705931  {'was_impossible': False}   \n",
       "10601   AYB4ELCS5AM8P  B00068NUM6  1.0  4.727144  {'was_impossible': False}   \n",
       "4842   A2HRHF83I3NDGT  B002HGFKR8  1.0  4.732056  {'was_impossible': False}   \n",
       "6046   A2D1LPEUCTNT8X  B0001FV36E  1.0  4.737769  {'was_impossible': False}   \n",
       "8563   A2B7BUH8834Y6M  B001G5ZTLS  1.0  4.758279  {'was_impossible': False}   \n",
       "10378   AZMY6E8B52L2T  B004R7P28W  1.0  4.950395  {'was_impossible': False}   \n",
       "6402     A5KMMY627T3W  B002QEBMAK  1.0  4.999945  {'was_impossible': False}   \n",
       "\n",
       "        Iu  Ui       err  \n",
       "9710    99   1  3.695027  \n",
       "2266    93   2  3.695919  \n",
       "1690    94   2  3.698534  \n",
       "7675    93   4  3.705931  \n",
       "10601  125   0  3.727144  \n",
       "4842    95   1  3.732056  \n",
       "6046    92   3  3.737769  \n",
       "8563   137   7  3.758279  \n",
       "10378  137   5  3.950395  \n",
       "6402   105  17  3.999945  "
      ]
     },
     "execution_count": 121,
     "metadata": {},
     "output_type": "execute_result"
    }
   ],
   "source": [
    "worst_predictions"
   ]
  },
  {
   "cell_type": "code",
   "execution_count": 122,
   "metadata": {},
   "outputs": [],
   "source": [
    "#https://bmanohar16.github.io/blog/recsys-evaluation-in-surprise\n",
    "# k-NN Based Algorithms\n",
    "knnbasic_cv = cross_validate(KNNBasic(), data, cv=5, n_jobs=5, verbose=False)\n",
    "knnmeans_cv = cross_validate(KNNWithMeans(), data, cv=5, n_jobs=5, verbose=False)\n",
    "knnz_cv = cross_validate(KNNWithZScore(), data, cv=5, n_jobs=5, verbose=False)"
   ]
  },
  {
   "cell_type": "code",
   "execution_count": 123,
   "metadata": {},
   "outputs": [],
   "source": [
    "#Matrix Factorization Based Algorithms\n",
    "svd_cv = cross_validate(SVD(), data, cv=5, n_jobs=5, verbose=False)\n",
    "svdpp_cv = cross_validate(SVDpp(), data, cv=5, n_jobs=5, verbose=False)\n",
    "nmf_cv = cross_validate(NMF(), data, cv=5, n_jobs=5, verbose=False)"
   ]
  },
  {
   "cell_type": "code",
   "execution_count": 124,
   "metadata": {},
   "outputs": [],
   "source": [
    "#Other Collaborative Filtering Algorithms\n",
    "slope_cv = cross_validate(SlopeOne(), data, cv=5, n_jobs=5, verbose=False)\n",
    "coclus_cv = cross_validate(CoClustering(), data, cv=5, n_jobs=5, verbose=False)"
   ]
  },
  {
   "cell_type": "code",
   "execution_count": 125,
   "metadata": {},
   "outputs": [
    {
     "name": "stdout",
     "output_type": "stream",
     "text": [
      "Algorithm\t RMSE\t\t MAE\n",
      "\n",
      "KNN Basic \t 1.0702 \t 0.7656\n",
      "KNN Means \t 1.0282 \t 0.7448\n",
      "KNN ZScore \t 1.0312 \t 0.7412\n",
      "\n",
      "SVD \t\t 0.9522 \t 0.7068\n",
      "SVDpp \t\t 0.9526 \t 0.7051\n",
      "NMF \t\t 1.1083 \t 0.8511\n",
      "\n",
      "SlopeOne \t 1.0552 \t 0.7777\n",
      "CoClustering \t 1.0463 \t 0.747\n",
      "\n"
     ]
    }
   ],
   "source": [
    "print('Algorithm\\t RMSE\\t\\t MAE')\n",
    "print()\n",
    "print('KNN Basic', '\\t', round(knnbasic_cv['test_rmse'].mean(), 4), '\\t', round(knnbasic_cv['test_mae'].mean(), 4))\n",
    "print('KNN Means', '\\t', round(knnmeans_cv['test_rmse'].mean(), 4), '\\t', round(knnmeans_cv['test_mae'].mean(), 4))\n",
    "print('KNN ZScore', '\\t', round(knnz_cv['test_rmse'].mean(), 4), '\\t', round(knnz_cv['test_mae'].mean(), 4))\n",
    "print()\n",
    "print('SVD', '\\t\\t', round(svd_cv['test_rmse'].mean(), 4), '\\t', round(svd_cv['test_mae'].mean(), 4))\n",
    "print('SVDpp', '\\t\\t', round(svdpp_cv['test_rmse'].mean(), 4), '\\t', round(svdpp_cv['test_mae'].mean(), 4))\n",
    "print('NMF', '\\t\\t', round(nmf_cv['test_rmse'].mean(), 4), '\\t', round(nmf_cv['test_mae'].mean(), 4))\n",
    "print()\n",
    "print('SlopeOne', '\\t', round(slope_cv['test_rmse'].mean(), 4), '\\t', round(slope_cv['test_mae'].mean(), 4))\n",
    "print('CoClustering', '\\t', round(coclus_cv['test_rmse'].mean(), 4), '\\t', round(coclus_cv['test_mae'].mean(), 4))\n",
    "print()"
   ]
  },
  {
   "cell_type": "code",
   "execution_count": 126,
   "metadata": {},
   "outputs": [
    {
     "data": {
      "image/png": "[encoded data removed]",
      "text/plain": [
       "<Figure size 1440x360 with 2 Axes>"
      ]
     },
     "metadata": {
      "needs_background": "light"
     },
     "output_type": "display_data"
    }
   ],
   "source": [
    "x_algo = ['KNN Basic', 'KNN Means', 'KNN ZScore', 'SVD', 'SVDpp', 'NMF', 'SlopeOne', 'CoClustering']\n",
    "all_algos_cv = [knnbasic_cv, knnmeans_cv, knnz_cv, svd_cv, svdpp_cv, nmf_cv, slope_cv, coclus_cv]\n",
    "\n",
    "rmse_cv = [round(res['test_rmse'].mean(), 4) for res in all_algos_cv]\n",
    "mae_cv = [round(res['test_mae'].mean(), 4) for res in all_algos_cv]\n",
    "\n",
    "plt.figure(figsize=(20,5))\n",
    "\n",
    "plt.subplot(1, 2, 1)\n",
    "plt.title('Comparison of Algorithms on RMSE', loc='center', fontsize=15)\n",
    "plt.plot(x_algo, rmse_cv, label='RMSE', color='darkgreen', marker='o')\n",
    "plt.xlabel('Algorithms', fontsize=15)\n",
    "plt.ylabel('RMSE Value', fontsize=15)\n",
    "plt.legend()\n",
    "plt.grid(ls='dashed')\n",
    "\n",
    "plt.subplot(1, 2, 2)\n",
    "plt.title('Comparison of Algorithms on MAE', loc='center', fontsize=15)\n",
    "plt.plot(x_algo, mae_cv, label='MAE', color='navy', marker='o')\n",
    "plt.xlabel('Algorithms', fontsize=15)\n",
    "plt.ylabel('MAE Value', fontsize=15)\n",
    "plt.legend()\n",
    "plt.grid(ls='dashed')\n",
    "\n",
    "plt.show()"
   ]
  },
  {
   "cell_type": "markdown",
   "metadata": {},
   "source": [
    "<span style='background:yellow'> <span style='font-family:Georgia'>  SVD and SVDpp works better than others  </span> \n",
    "\n",
    "\n",
    "\n",
    "Algorithm\t RMSE\t\t MAE\n",
    "SVD \t\t 0.9522 \t 0.7068\n",
    "SVDpp \t\t 0.9526 \t 0.7051"
   ]
  },
  {
   "cell_type": "markdown",
   "metadata": {},
   "source": [
    "<span style='background:orange'> <span style='font-family:Georgia'>  <br> Appendix. GridSearch CV  \n",
    "<br>\n",
    "</span> "
   ]
  },
  {
   "cell_type": "markdown",
   "metadata": {},
   "source": [
    "Perform GridSearch CV on top three algorithms - SVDpp, SVD and KNN\n",
    "Let’s try tweaking parameters on SVDpp, SVD using GridSearchCV"
   ]
  },
  {
   "cell_type": "code",
   "execution_count": 127,
   "metadata": {},
   "outputs": [],
   "source": [
    "# Parameter space\n",
    "svd_param_grid = {'n_epochs': [20, 25], \n",
    "                  'lr_all': [0.007, 0.009, 0.01],\n",
    "                  'reg_all': [0.4, 0.6]}\n",
    "\n",
    "svdpp_gs = GridSearchCV(SVDpp, svd_param_grid, measures=['rmse', 'mae'], cv=5, n_jobs=5)\n",
    "svdpp_gs.fit(data)\n",
    "\n",
    "svd_gs = GridSearchCV(SVD, svd_param_grid, measures=['rmse', 'mae'], cv=5, n_jobs=5)\n",
    "svd_gs.fit(data)"
   ]
  },
  {
   "cell_type": "code",
   "execution_count": 128,
   "metadata": {},
   "outputs": [
    {
     "name": "stdout",
     "output_type": "stream",
     "text": [
      "SVDpp - RMSE: 0.9463 ; MAE: 0.7104\n",
      "SVD   - RMSE: 0.9468 ; MAE: 0.7104\n"
     ]
    }
   ],
   "source": [
    "print('SVDpp - RMSE:', round(svdpp_gs.best_score['rmse'], 4), '; MAE:', round(svdpp_gs.best_score['mae'], 4))\n",
    "print('SVD   - RMSE:', round(svd_gs.best_score['rmse'], 4), '; MAE:', round(svd_gs.best_score['mae'], 4))"
   ]
  },
  {
   "cell_type": "code",
   "execution_count": 129,
   "metadata": {},
   "outputs": [
    {
     "name": "stdout",
     "output_type": "stream",
     "text": [
      "RMSE = {'n_epochs': 25, 'lr_all': 0.007, 'reg_all': 0.4}\n",
      "MAE = {'n_epochs': 25, 'lr_all': 0.01, 'reg_all': 0.4}\n"
     ]
    }
   ],
   "source": [
    "#SVDpp Best Parameters\n",
    "\n",
    "print('RMSE =', svdpp_gs.best_params['rmse'])\n",
    "print('MAE =', svdpp_gs.best_params['mae'])\n",
    "RMSE = {'n_epochs': 25, 'lr_all': 0.007, 'reg_all': 0.4}\n",
    "MAE = {'n_epochs': 25, 'lr_all': 0.01, 'reg_all': 0.4}"
   ]
  },
  {
   "cell_type": "code",
   "execution_count": 130,
   "metadata": {},
   "outputs": [
    {
     "name": "stdout",
     "output_type": "stream",
     "text": [
      "RMSE = {'n_epochs': 20, 'lr_all': 0.009, 'reg_all': 0.4}\n",
      "MAE = {'n_epochs': 25, 'lr_all': 0.01, 'reg_all': 0.4}\n"
     ]
    }
   ],
   "source": [
    "#SVD Best Parameters\n",
    "print('RMSE =', svd_gs.best_params['rmse'])\n",
    "print('MAE =', svd_gs.best_params['mae'])\n",
    "RMSE = {'n_epochs': 20, 'lr_all': 0.009, 'reg_all': 0.4}\n",
    "MAE = {'n_epochs': 25, 'lr_all': 0.01, 'reg_all': 0.4}"
   ]
  },
  {
   "cell_type": "code",
   "execution_count": 131,
   "metadata": {},
   "outputs": [],
   "source": [
    "#Tweak parameters on KNN using GridSearchCV\n",
    "param_grid = {'k': [15, 20, 25, 30, 40, 50, 60]}\n",
    "\n",
    "knnbasic_gs = GridSearchCV(KNNBasic, param_grid, measures=['rmse', 'mae'], cv=5, n_jobs=5)\n",
    "knnbasic_gs.fit(data)\n",
    "\n",
    "knnmeans_gs = GridSearchCV(KNNWithMeans, param_grid, measures=['rmse', 'mae'], cv=5, n_jobs=5)\n",
    "knnmeans_gs.fit(data)\n",
    "\n",
    "knnz_gs = GridSearchCV(KNNWithZScore, param_grid, measures=['rmse', 'mae'], cv=5, n_jobs=5)\n",
    "knnz_gs.fit(data)"
   ]
  },
  {
   "cell_type": "code",
   "execution_count": 132,
   "metadata": {},
   "outputs": [],
   "source": [
    "x = [15, 20, 25, 30, 40, 50, 60]\n",
    "y1 = knnbasic_gs.cv_results['mean_test_rmse']\n",
    "y2 = knnbasic_gs.cv_results['mean_test_mae']\n",
    "\n",
    "y3 = knnmeans_gs.cv_results['mean_test_rmse']\n",
    "y4 = knnmeans_gs.cv_results['mean_test_mae']\n",
    "\n",
    "y5 = knnz_gs.cv_results['mean_test_rmse']\n",
    "y6 = knnz_gs.cv_results['mean_test_mae']"
   ]
  },
  {
   "cell_type": "code",
   "execution_count": 133,
   "metadata": {},
   "outputs": [
    {
     "data": {
      "image/png": "[encoded data removed]",
      "text/plain": [
       "<Figure size 1296x360 with 2 Axes>"
      ]
     },
     "metadata": {
      "needs_background": "light"
     },
     "output_type": "display_data"
    }
   ],
   "source": [
    "plt.figure(figsize=(18,5))\n",
    "\n",
    "plt.subplot(1, 2, 1)\n",
    "plt.title('K Neighbors vs RMSE', loc='center', fontsize=15)\n",
    "plt.plot(x, y1, label='KNNBasic', color='lightcoral', marker='o')\n",
    "plt.plot(x, y5, label='KNNWithZScore', color='indianred', marker='o')\n",
    "plt.plot(x, y3, label='KNNWithMeans', color='darkred', marker='o')\n",
    "plt.xlabel('K Neighbor', fontsize=15)\n",
    "plt.ylabel('RMSE Value', fontsize=15)\n",
    "plt.legend()\n",
    "plt.grid(ls='dotted')\n",
    "\n",
    "plt.subplot(1, 2, 2)\n",
    "plt.title('K Neighbors vs MAE', loc='center', fontsize=15)\n",
    "plt.plot(x, y2, label='KNNBasic', color='lightcoral', marker='o')\n",
    "plt.plot(x, y4, label='KNNWithMeans', color='indianred', marker='o')\n",
    "plt.plot(x, y6, label='KNNWithZScore', color='darkred', marker='o')\n",
    "plt.xlabel('K Neighbor', fontsize=15)\n",
    "plt.ylabel('MAE Value', fontsize=15)\n",
    "plt.legend()\n",
    "plt.grid(ls='dotted')\n",
    "\n",
    "plt.show()"
   ]
  },
  {
   "cell_type": "code",
   "execution_count": null,
   "metadata": {},
   "outputs": [],
   "source": [
    "#Evaluated Models:\n",
    "#kNN Basic, kNN Means, kNN ZScore, SVD, SVDpp, NMF, SlopeOne, CoClustering\n",
    "\n",
    "#Final Best Model:\n",
    "#KNNWIthMeans => Number of Epochs = 20, Learning Rate= 0.009, Regularization Term = 0.4"
   ]
  }
 ],
 "metadata": {
  "kernelspec": {
   "display_name": "Python 3",
   "language": "python",
   "name": "python3"
  },
  "language_info": {
   "codemirror_mode": {
    "name": "ipython",
    "version": 3
   },
   "file_extension": ".py",
   "mimetype": "text/x-python",
   "name": "python",
   "nbconvert_exporter": "python",
   "pygments_lexer": "ipython3",
   "version": "3.8.5"
  }
 },
 "nbformat": 4,
 "nbformat_minor": 4
}
